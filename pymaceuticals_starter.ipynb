{
 "cells": [
  {
   "cell_type": "markdown",
   "metadata": {},
   "source": [
    "# Pymaceuticals Inc.\n",
    "---\n",
    "\n",
    "### Analysis\n",
    "\n",
    "- David Duran Submission.\n"
"Two hundred and forty eight mice began time-interval screening with \n"
"antineoplastic medications for squamous cell carcinoma.The trials lasted 45 days, the cutaneous\n"
"anomalies were measured in time intervals to identify time-tested reactions to different \n"
"treatment considerations consisting of: \n"
"\n"
"Capomulin	\n"
"Ceftamin	\n"
"Infubinol	\n"
"Ketapril	\n"
"Naftisol	\n"
"Placebo	\n"
"Propriva	\n"
"Ramicane	\n"
"Stelasyn	\n"
"Zoniferol	\n"
"\n"
"\n"
"The sample consisted of 51.0% Male mice and 49.0% Female mice.The average age of the sample\n"
"was 12.7762085 months, according to PubMed.ncbi.nlm.nih.gov, 9 mouse days equal to a human year.\n"
"The sample discussed assimilates a human age group with 43.20 years of age.\n"
"45 days of antineoplastic treatment on a mouse is comparable to 5 human years of treatment.\n"
"\n"
"Focusing on the contrast of Capomulin, Ramincane, Infubinol, and Ceftamin, the following \n"
"highlights were derived:\n"
"\n"
"\n"
"The smallest tumor based on its size was produced from the trial with Ramicane at a volume of 22.05.\n"
"Ramicanes average over all the trials was .45mm^3 smaller than the final average volume of all Capomulin\n"
"trials.\n"
"\n"
"The final average of tumors for Ramicane was 40.21mm^3, and Capomulin's 40.67mm^3 \n"
"On the other hand Ketapril performed the least favorable with the highest tumor volume at 78.56mm^3\n"
"30.41mm^3 higher than Capomulin. The average difference between Ketapril and Capomulin was 14.55mm^3, and\n"
"the difference between the smallest tumors accounted per Ketapril and capomulin was 21.66mm^3\n"
"\n"
"The distribution of results focused on Capomulin, Ramicane, Infubinol, and Ceftamin can be compared \nv"
"in pairs as expressed on the box plot. Capomulin, and Ramicane performed similarly with an almost\n"
"parallel distribution of results. It is important to acknowledge that an outlier was found with \n"
"the Infubinol trials, a tumor the size of 36.32mm^3 when the remainder of the subjects maintained \n"
"their tumors above 45mm^3 and below 80mm^3.\n"
"\n"
"The graph following Mouse ID l509 concludes that over the course of the trial, the nature of \n"
"the healing process allowed the anomaly to grow consistently for about half the time of the \n"
"trial and the results of capomulin are appreciated on the latter half of the treatment with a decrease \n"
"in size of about 20%.The correlation between mouse weight and the average tumor volume 0.84. \n"
"\n"
"\n",
    " "
   ]
  },
  {
   "cell_type": "code",
   "execution_count": 1,
   "metadata": {
    "scrolled": false
   },
   "outputs": [
    {
     "data": {
      "text/html": [
       "<div>\n",
       "<style scoped>\n",
       "    .dataframe tbody tr th:only-of-type {\n",
       "        vertical-align: middle;\n",
       "    }\n",
       "\n",
       "    .dataframe tbody tr th {\n",
       "        vertical-align: top;\n",
       "    }\n",
       "\n",
       "    .dataframe thead th {\n",
       "        text-align: right;\n",
       "    }\n",
       "</style>\n",
       "<table border=\"1\" class=\"dataframe\">\n",
       "  <thead>\n",
       "    <tr style=\"text-align: right;\">\n",
       "      <th></th>\n",
       "      <th>Mouse ID</th>\n",
       "      <th>Timepoint</th>\n",
       "      <th>Tumor Volume (mm3)</th>\n",
       "      <th>Metastatic Sites</th>\n",
       "      <th>Drug Regimen</th>\n",
       "      <th>Sex</th>\n",
       "      <th>Age_months</th>\n",
       "      <th>Weight (g)</th>\n",
       "    </tr>\n",
       "  </thead>\n",
       "  <tbody>\n",
       "    <tr>\n",
       "      <th>0</th>\n",
       "      <td>k403</td>\n",
       "      <td>0</td>\n",
       "      <td>45.000000</td>\n",
       "      <td>0</td>\n",
       "      <td>Ramicane</td>\n",
       "      <td>Male</td>\n",
       "      <td>21</td>\n",
       "      <td>16</td>\n",
       "    </tr>\n",
       "    <tr>\n",
       "      <th>1</th>\n",
       "      <td>k403</td>\n",
       "      <td>5</td>\n",
       "      <td>38.825898</td>\n",
       "      <td>0</td>\n",
       "      <td>Ramicane</td>\n",
       "      <td>Male</td>\n",
       "      <td>21</td>\n",
       "      <td>16</td>\n",
       "    </tr>\n",
       "    <tr>\n",
       "      <th>2</th>\n",
       "      <td>k403</td>\n",
       "      <td>10</td>\n",
       "      <td>35.014271</td>\n",
       "      <td>1</td>\n",
       "      <td>Ramicane</td>\n",
       "      <td>Male</td>\n",
       "      <td>21</td>\n",
       "      <td>16</td>\n",
       "    </tr>\n",
       "    <tr>\n",
       "      <th>3</th>\n",
       "      <td>k403</td>\n",
       "      <td>15</td>\n",
       "      <td>34.223992</td>\n",
       "      <td>1</td>\n",
       "      <td>Ramicane</td>\n",
       "      <td>Male</td>\n",
       "      <td>21</td>\n",
       "      <td>16</td>\n",
       "    </tr>\n",
       "    <tr>\n",
       "      <th>4</th>\n",
       "      <td>k403</td>\n",
       "      <td>20</td>\n",
       "      <td>32.997729</td>\n",
       "      <td>1</td>\n",
       "      <td>Ramicane</td>\n",
       "      <td>Male</td>\n",
       "      <td>21</td>\n",
       "      <td>16</td>\n",
       "    </tr>\n",
       "    <tr>\n",
       "      <th>...</th>\n",
       "      <td>...</td>\n",
       "      <td>...</td>\n",
       "      <td>...</td>\n",
       "      <td>...</td>\n",
       "      <td>...</td>\n",
       "      <td>...</td>\n",
       "      <td>...</td>\n",
       "      <td>...</td>\n",
       "    </tr>\n",
       "    <tr>\n",
       "      <th>1888</th>\n",
       "      <td>z969</td>\n",
       "      <td>25</td>\n",
       "      <td>63.145652</td>\n",
       "      <td>2</td>\n",
       "      <td>Naftisol</td>\n",
       "      <td>Male</td>\n",
       "      <td>9</td>\n",
       "      <td>30</td>\n",
       "    </tr>\n",
       "    <tr>\n",
       "      <th>1889</th>\n",
       "      <td>z969</td>\n",
       "      <td>30</td>\n",
       "      <td>65.841013</td>\n",
       "      <td>3</td>\n",
       "      <td>Naftisol</td>\n",
       "      <td>Male</td>\n",
       "      <td>9</td>\n",
       "      <td>30</td>\n",
       "    </tr>\n",
       "    <tr>\n",
       "      <th>1890</th>\n",
       "      <td>z969</td>\n",
       "      <td>35</td>\n",
       "      <td>69.176246</td>\n",
       "      <td>4</td>\n",
       "      <td>Naftisol</td>\n",
       "      <td>Male</td>\n",
       "      <td>9</td>\n",
       "      <td>30</td>\n",
       "    </tr>\n",
       "    <tr>\n",
       "      <th>1891</th>\n",
       "      <td>z969</td>\n",
       "      <td>40</td>\n",
       "      <td>70.314904</td>\n",
       "      <td>4</td>\n",
       "      <td>Naftisol</td>\n",
       "      <td>Male</td>\n",
       "      <td>9</td>\n",
       "      <td>30</td>\n",
       "    </tr>\n",
       "    <tr>\n",
       "      <th>1892</th>\n",
       "      <td>z969</td>\n",
       "      <td>45</td>\n",
       "      <td>73.867845</td>\n",
       "      <td>4</td>\n",
       "      <td>Naftisol</td>\n",
       "      <td>Male</td>\n",
       "      <td>9</td>\n",
       "      <td>30</td>\n",
       "    </tr>\n",
       "  </tbody>\n",
       "</table>\n",
       "<p>1893 rows × 8 columns</p>\n",
       "</div>"
      ],
      "text/plain": [
       "     Mouse ID  Timepoint  Tumor Volume (mm3)  Metastatic Sites Drug Regimen  \\\n",
       "0        k403          0           45.000000                 0     Ramicane   \n",
       "1        k403          5           38.825898                 0     Ramicane   \n",
       "2        k403         10           35.014271                 1     Ramicane   \n",
       "3        k403         15           34.223992                 1     Ramicane   \n",
       "4        k403         20           32.997729                 1     Ramicane   \n",
       "...       ...        ...                 ...               ...          ...   \n",
       "1888     z969         25           63.145652                 2     Naftisol   \n",
       "1889     z969         30           65.841013                 3     Naftisol   \n",
       "1890     z969         35           69.176246                 4     Naftisol   \n",
       "1891     z969         40           70.314904                 4     Naftisol   \n",
       "1892     z969         45           73.867845                 4     Naftisol   \n",
       "\n",
       "       Sex  Age_months  Weight (g)  \n",
       "0     Male          21          16  \n",
       "1     Male          21          16  \n",
       "2     Male          21          16  \n",
       "3     Male          21          16  \n",
       "4     Male          21          16  \n",
       "...    ...         ...         ...  \n",
       "1888  Male           9          30  \n",
       "1889  Male           9          30  \n",
       "1890  Male           9          30  \n",
       "1891  Male           9          30  \n",
       "1892  Male           9          30  \n",
       "\n",
       "[1893 rows x 8 columns]"
      ]
     },
     "execution_count": 1,
     "metadata": {},
     "output_type": "execute_result"
    }
   ],
   "source": [
    "# Dependencies and Setup\n",
    "import matplotlib.pyplot as plt\n",
    "import pandas as pd\n",
    "import scipy.stats as st\n",
    "\n",
    "# Study data files\n",
    "mouse_metadata_path = \"data/Mouse_metadata.csv\"\n",
    "study_results_path = \"data/Study_results.csv\"\n",
    "\n",
    "# Read the mouse data and the study results\n",
    "mouse_metadata = pd.read_csv(mouse_metadata_path)\n",
    "study_results = pd.read_csv(study_results_path)\n",
    "\n",
    "# Combine the data into a single datase\n",
    "complete_data = pd.merge(mouse_metadata,study_results, on = \"Mouse ID\",how = 'left'  )\n",
    "\n",
    "\n",
    "# Display the data table for preview#complete_data_v1 matches the columns\n",
    "complete_data_v1 = complete_data.loc[:,['Mouse ID','Timepoint','Tumor Volume (mm3)',\n",
    "                                        'Metastatic Sites','Drug Regimen','Sex',\n",
    "                                       'Age_months','Weight (g)']]\n",
    "complete_data_v1\n",
    "\n"
   ]
  },
  {
   "cell_type": "code",
   "execution_count": 10,
   "metadata": {
    "scrolled": true
   },
   "outputs": [
    {
     "data": {
      "text/plain": [
       "249"
      ]
     },
     "execution_count": 10,
     "metadata": {},
     "output_type": "execute_result"
    }
   ],
   "source": [
    "complete_data_v1['Mouse ID'].nunique()"
   ]
  },
  {
   "cell_type": "code",
   "execution_count": 11,
   "metadata": {},
   "outputs": [
    {
     "data": {
      "text/plain": [
       "array(['g989'], dtype=object)"
      ]
     },
     "execution_count": 11,
     "metadata": {},
     "output_type": "execute_result"
    }
   ],
   "source": [
    "# Getting the duplicate mice by ID number that shows up for Mouse ID and Timepoint. \n",
    "extra_mice = complete_data_v1.loc[complete_data_v1.duplicated(subset=['Mouse ID', 'Timepoint']),'Mouse ID'].unique()\n",
    "extra_mice\n"
   ]
  },
  {
   "cell_type": "code",
   "execution_count": 12,
   "metadata": {},
   "outputs": [
    {
     "data": {
      "text/html": [
       "<div>\n",
       "<style scoped>\n",
       "    .dataframe tbody tr th:only-of-type {\n",
       "        vertical-align: middle;\n",
       "    }\n",
       "\n",
       "    .dataframe tbody tr th {\n",
       "        vertical-align: top;\n",
       "    }\n",
       "\n",
       "    .dataframe thead th {\n",
       "        text-align: right;\n",
       "    }\n",
       "</style>\n",
       "<table border=\"1\" class=\"dataframe\">\n",
       "  <thead>\n",
       "    <tr style=\"text-align: right;\">\n",
       "      <th></th>\n",
       "      <th>Mouse ID</th>\n",
       "      <th>Timepoint</th>\n",
       "      <th>Tumor Volume (mm3)</th>\n",
       "      <th>Metastatic Sites</th>\n",
       "      <th>Drug Regimen</th>\n",
       "      <th>Sex</th>\n",
       "      <th>Age_months</th>\n",
       "      <th>Weight (g)</th>\n",
       "    </tr>\n",
       "  </thead>\n",
       "  <tbody>\n",
       "    <tr>\n",
       "      <th>0</th>\n",
       "      <td>k403</td>\n",
       "      <td>0</td>\n",
       "      <td>45.000000</td>\n",
       "      <td>0</td>\n",
       "      <td>Ramicane</td>\n",
       "      <td>Male</td>\n",
       "      <td>21</td>\n",
       "      <td>16</td>\n",
       "    </tr>\n",
       "    <tr>\n",
       "      <th>1</th>\n",
       "      <td>k403</td>\n",
       "      <td>5</td>\n",
       "      <td>38.825898</td>\n",
       "      <td>0</td>\n",
       "      <td>Ramicane</td>\n",
       "      <td>Male</td>\n",
       "      <td>21</td>\n",
       "      <td>16</td>\n",
       "    </tr>\n",
       "    <tr>\n",
       "      <th>2</th>\n",
       "      <td>k403</td>\n",
       "      <td>10</td>\n",
       "      <td>35.014271</td>\n",
       "      <td>1</td>\n",
       "      <td>Ramicane</td>\n",
       "      <td>Male</td>\n",
       "      <td>21</td>\n",
       "      <td>16</td>\n",
       "    </tr>\n",
       "    <tr>\n",
       "      <th>3</th>\n",
       "      <td>k403</td>\n",
       "      <td>15</td>\n",
       "      <td>34.223992</td>\n",
       "      <td>1</td>\n",
       "      <td>Ramicane</td>\n",
       "      <td>Male</td>\n",
       "      <td>21</td>\n",
       "      <td>16</td>\n",
       "    </tr>\n",
       "    <tr>\n",
       "      <th>4</th>\n",
       "      <td>k403</td>\n",
       "      <td>20</td>\n",
       "      <td>32.997729</td>\n",
       "      <td>1</td>\n",
       "      <td>Ramicane</td>\n",
       "      <td>Male</td>\n",
       "      <td>21</td>\n",
       "      <td>16</td>\n",
       "    </tr>\n",
       "    <tr>\n",
       "      <th>...</th>\n",
       "      <td>...</td>\n",
       "      <td>...</td>\n",
       "      <td>...</td>\n",
       "      <td>...</td>\n",
       "      <td>...</td>\n",
       "      <td>...</td>\n",
       "      <td>...</td>\n",
       "      <td>...</td>\n",
       "    </tr>\n",
       "    <tr>\n",
       "      <th>1888</th>\n",
       "      <td>z969</td>\n",
       "      <td>25</td>\n",
       "      <td>63.145652</td>\n",
       "      <td>2</td>\n",
       "      <td>Naftisol</td>\n",
       "      <td>Male</td>\n",
       "      <td>9</td>\n",
       "      <td>30</td>\n",
       "    </tr>\n",
       "    <tr>\n",
       "      <th>1889</th>\n",
       "      <td>z969</td>\n",
       "      <td>30</td>\n",
       "      <td>65.841013</td>\n",
       "      <td>3</td>\n",
       "      <td>Naftisol</td>\n",
       "      <td>Male</td>\n",
       "      <td>9</td>\n",
       "      <td>30</td>\n",
       "    </tr>\n",
       "    <tr>\n",
       "      <th>1890</th>\n",
       "      <td>z969</td>\n",
       "      <td>35</td>\n",
       "      <td>69.176246</td>\n",
       "      <td>4</td>\n",
       "      <td>Naftisol</td>\n",
       "      <td>Male</td>\n",
       "      <td>9</td>\n",
       "      <td>30</td>\n",
       "    </tr>\n",
       "    <tr>\n",
       "      <th>1891</th>\n",
       "      <td>z969</td>\n",
       "      <td>40</td>\n",
       "      <td>70.314904</td>\n",
       "      <td>4</td>\n",
       "      <td>Naftisol</td>\n",
       "      <td>Male</td>\n",
       "      <td>9</td>\n",
       "      <td>30</td>\n",
       "    </tr>\n",
       "    <tr>\n",
       "      <th>1892</th>\n",
       "      <td>z969</td>\n",
       "      <td>45</td>\n",
       "      <td>73.867845</td>\n",
       "      <td>4</td>\n",
       "      <td>Naftisol</td>\n",
       "      <td>Male</td>\n",
       "      <td>9</td>\n",
       "      <td>30</td>\n",
       "    </tr>\n",
       "  </tbody>\n",
       "</table>\n",
       "<p>1880 rows × 8 columns</p>\n",
       "</div>"
      ],
      "text/plain": [
       "     Mouse ID  Timepoint  Tumor Volume (mm3)  Metastatic Sites Drug Regimen  \\\n",
       "0        k403          0           45.000000                 0     Ramicane   \n",
       "1        k403          5           38.825898                 0     Ramicane   \n",
       "2        k403         10           35.014271                 1     Ramicane   \n",
       "3        k403         15           34.223992                 1     Ramicane   \n",
       "4        k403         20           32.997729                 1     Ramicane   \n",
       "...       ...        ...                 ...               ...          ...   \n",
       "1888     z969         25           63.145652                 2     Naftisol   \n",
       "1889     z969         30           65.841013                 3     Naftisol   \n",
       "1890     z969         35           69.176246                 4     Naftisol   \n",
       "1891     z969         40           70.314904                 4     Naftisol   \n",
       "1892     z969         45           73.867845                 4     Naftisol   \n",
       "\n",
       "       Sex  Age_months  Weight (g)  \n",
       "0     Male          21          16  \n",
       "1     Male          21          16  \n",
       "2     Male          21          16  \n",
       "3     Male          21          16  \n",
       "4     Male          21          16  \n",
       "...    ...         ...         ...  \n",
       "1888  Male           9          30  \n",
       "1889  Male           9          30  \n",
       "1890  Male           9          30  \n",
       "1891  Male           9          30  \n",
       "1892  Male           9          30  \n",
       "\n",
       "[1880 rows x 8 columns]"
      ]
     },
     "execution_count": 12,
     "metadata": {},
     "output_type": "execute_result"
    }
   ],
   "source": [
    "clean_df = complete_data_v1[complete_data_v1['Mouse ID'].isin(extra_mice)== False ]\n",
    "clean_df"
   ]
  },
  {
   "cell_type": "code",
   "execution_count": 13,
   "metadata": {
    "scrolled": true
   },
   "outputs": [
    {
     "data": {
      "text/html": [
       "<div>\n",
       "<style scoped>\n",
       "    .dataframe tbody tr th:only-of-type {\n",
       "        vertical-align: middle;\n",
       "    }\n",
       "\n",
       "    .dataframe tbody tr th {\n",
       "        vertical-align: top;\n",
       "    }\n",
       "\n",
       "    .dataframe thead th {\n",
       "        text-align: right;\n",
       "    }\n",
       "</style>\n",
       "<table border=\"1\" class=\"dataframe\">\n",
       "  <thead>\n",
       "    <tr style=\"text-align: right;\">\n",
       "      <th></th>\n",
       "      <th>Mouse ID</th>\n",
       "      <th>Timepoint</th>\n",
       "      <th>Tumor Volume (mm3)</th>\n",
       "      <th>Metastatic Sites</th>\n",
       "      <th>Drug Regimen</th>\n",
       "      <th>Sex</th>\n",
       "      <th>Age_months</th>\n",
       "      <th>Weight (g)</th>\n",
       "    </tr>\n",
       "  </thead>\n",
       "  <tbody>\n",
       "    <tr>\n",
       "      <th>0</th>\n",
       "      <td>k403</td>\n",
       "      <td>0</td>\n",
       "      <td>45.000000</td>\n",
       "      <td>0</td>\n",
       "      <td>Ramicane</td>\n",
       "      <td>Male</td>\n",
       "      <td>21</td>\n",
       "      <td>16</td>\n",
       "    </tr>\n",
       "    <tr>\n",
       "      <th>1</th>\n",
       "      <td>k403</td>\n",
       "      <td>5</td>\n",
       "      <td>38.825898</td>\n",
       "      <td>0</td>\n",
       "      <td>Ramicane</td>\n",
       "      <td>Male</td>\n",
       "      <td>21</td>\n",
       "      <td>16</td>\n",
       "    </tr>\n",
       "    <tr>\n",
       "      <th>2</th>\n",
       "      <td>k403</td>\n",
       "      <td>10</td>\n",
       "      <td>35.014271</td>\n",
       "      <td>1</td>\n",
       "      <td>Ramicane</td>\n",
       "      <td>Male</td>\n",
       "      <td>21</td>\n",
       "      <td>16</td>\n",
       "    </tr>\n",
       "    <tr>\n",
       "      <th>3</th>\n",
       "      <td>k403</td>\n",
       "      <td>15</td>\n",
       "      <td>34.223992</td>\n",
       "      <td>1</td>\n",
       "      <td>Ramicane</td>\n",
       "      <td>Male</td>\n",
       "      <td>21</td>\n",
       "      <td>16</td>\n",
       "    </tr>\n",
       "    <tr>\n",
       "      <th>4</th>\n",
       "      <td>k403</td>\n",
       "      <td>20</td>\n",
       "      <td>32.997729</td>\n",
       "      <td>1</td>\n",
       "      <td>Ramicane</td>\n",
       "      <td>Male</td>\n",
       "      <td>21</td>\n",
       "      <td>16</td>\n",
       "    </tr>\n",
       "    <tr>\n",
       "      <th>...</th>\n",
       "      <td>...</td>\n",
       "      <td>...</td>\n",
       "      <td>...</td>\n",
       "      <td>...</td>\n",
       "      <td>...</td>\n",
       "      <td>...</td>\n",
       "      <td>...</td>\n",
       "      <td>...</td>\n",
       "    </tr>\n",
       "    <tr>\n",
       "      <th>1888</th>\n",
       "      <td>z969</td>\n",
       "      <td>25</td>\n",
       "      <td>63.145652</td>\n",
       "      <td>2</td>\n",
       "      <td>Naftisol</td>\n",
       "      <td>Male</td>\n",
       "      <td>9</td>\n",
       "      <td>30</td>\n",
       "    </tr>\n",
       "    <tr>\n",
       "      <th>1889</th>\n",
       "      <td>z969</td>\n",
       "      <td>30</td>\n",
       "      <td>65.841013</td>\n",
       "      <td>3</td>\n",
       "      <td>Naftisol</td>\n",
       "      <td>Male</td>\n",
       "      <td>9</td>\n",
       "      <td>30</td>\n",
       "    </tr>\n",
       "    <tr>\n",
       "      <th>1890</th>\n",
       "      <td>z969</td>\n",
       "      <td>35</td>\n",
       "      <td>69.176246</td>\n",
       "      <td>4</td>\n",
       "      <td>Naftisol</td>\n",
       "      <td>Male</td>\n",
       "      <td>9</td>\n",
       "      <td>30</td>\n",
       "    </tr>\n",
       "    <tr>\n",
       "      <th>1891</th>\n",
       "      <td>z969</td>\n",
       "      <td>40</td>\n",
       "      <td>70.314904</td>\n",
       "      <td>4</td>\n",
       "      <td>Naftisol</td>\n",
       "      <td>Male</td>\n",
       "      <td>9</td>\n",
       "      <td>30</td>\n",
       "    </tr>\n",
       "    <tr>\n",
       "      <th>1892</th>\n",
       "      <td>z969</td>\n",
       "      <td>45</td>\n",
       "      <td>73.867845</td>\n",
       "      <td>4</td>\n",
       "      <td>Naftisol</td>\n",
       "      <td>Male</td>\n",
       "      <td>9</td>\n",
       "      <td>30</td>\n",
       "    </tr>\n",
       "  </tbody>\n",
       "</table>\n",
       "<p>1880 rows × 8 columns</p>\n",
       "</div>"
      ],
      "text/plain": [
       "     Mouse ID  Timepoint  Tumor Volume (mm3)  Metastatic Sites Drug Regimen  \\\n",
       "0        k403          0           45.000000                 0     Ramicane   \n",
       "1        k403          5           38.825898                 0     Ramicane   \n",
       "2        k403         10           35.014271                 1     Ramicane   \n",
       "3        k403         15           34.223992                 1     Ramicane   \n",
       "4        k403         20           32.997729                 1     Ramicane   \n",
       "...       ...        ...                 ...               ...          ...   \n",
       "1888     z969         25           63.145652                 2     Naftisol   \n",
       "1889     z969         30           65.841013                 3     Naftisol   \n",
       "1890     z969         35           69.176246                 4     Naftisol   \n",
       "1891     z969         40           70.314904                 4     Naftisol   \n",
       "1892     z969         45           73.867845                 4     Naftisol   \n",
       "\n",
       "       Sex  Age_months  Weight (g)  \n",
       "0     Male          21          16  \n",
       "1     Male          21          16  \n",
       "2     Male          21          16  \n",
       "3     Male          21          16  \n",
       "4     Male          21          16  \n",
       "...    ...         ...         ...  \n",
       "1888  Male           9          30  \n",
       "1889  Male           9          30  \n",
       "1890  Male           9          30  \n",
       "1891  Male           9          30  \n",
       "1892  Male           9          30  \n",
       "\n",
       "[1880 rows x 8 columns]"
      ]
     },
     "execution_count": 13,
     "metadata": {},
     "output_type": "execute_result"
    }
   ],
   "source": [
    "# Optional: Get all the data for the duplicate mouse ID. ###keep\n",
    "extra_mice = complete_data_v1.loc[complete_data_v1[\"Mouse ID\"] != \"g989\", :]\n",
    "extra_mice"
   ]
  },
  {
   "cell_type": "code",
   "execution_count": 146,
   "metadata": {
    "scrolled": false
   },
   "outputs": [
    {
     "name": "stdout",
     "output_type": "stream",
     "text": [
      "     Mouse ID  Timepoint  Tumor Volume (mm3)  Metastatic Sites Drug Regimen  \\\n",
      "1277     o331         45           78.567014                 4     Ketapril   \n",
      "\n",
      "       Sex  Age_months  Weight (g)  \n",
      "1277  Male          24          30  \n",
      "  Mouse ID  Timepoint  Tumor Volume (mm3)  Metastatic Sites Drug Regimen  \\\n",
      "9     k403         45           22.050126                 1     Ramicane   \n",
      "\n",
      "    Sex  Age_months  Weight (g)  \n",
      "9  Male          21          16  \n"
     ]
    }
   ],
   "source": [
    "# Create a clean DataFrame by dropping the duplicate mouse by its ID.\n",
    "# Optional: Get all the data for the duplicate mouse ID. \n",
    "clean_complete_v1 = complete_data_v1.drop_duplicates(subset=[\"Mouse ID\",\"Timepoint\"],keep = \"last\")\n",
    "\n",
    "#summary Redaction\n",
    "max_drug = clean_complete_v1.sort_values(by='Tumor Volume (mm3)',ascending=True)\n",
    "min_drug = clean_complete_v1.sort_values(by='Tumor Volume (mm3)',ascending=False)\n",
    "print(min_drug.head(1))\n",
    "print(max_drug.head(1))\n"
   ]
  },
  {
   "cell_type": "code",
   "execution_count": 204,
   "metadata": {},
   "outputs": [
    {
     "name": "stdout",
     "output_type": "stream",
     "text": [
      "40.67574114100001\n",
      "23.34359787\n",
      "48.15820939\n",
      "KETA\n",
      "55.23563764047869\n",
      "45.0\n",
      "78.56701362\n",
      "\n",
      "36.3213458\n"
     ]
    }
   ],
   "source": [
    "## Summary Redaction\n",
    "max_drug.head(1)\n",
    "withCampDF = clean_complete_v1[lambda x: x[\"Drug Regimen\"] == \"Capomulin\"]\n",
    "cap_min = withCampDF.loc[lambda x: [x[\"Tumor Volume (mm3)\"].idxmin()],:] \n",
    "\n",
    "\n",
    "\n",
    "# withCampDF.min(\"Drug Regimen\")\n",
    "# withCampDF.max(\"Drug Regimen\")\n",
    "withCampDFF = clean_complete_v1[lambda x: x[\"Drug Regimen\"] == \"Ramicane\"]\n",
    "withKeta = clean_complete_v1[lambda x: x[\"Drug Regimen\"] == \"Ketapril\"]\n",
    "withInfu = clean_complete_v1[lambda x: x[\"Drug Regimen\"] == \"Infubinol\"]\n",
    "\n",
    "print(withCampDF[\"Tumor Volume (mm3)\"].mean())\n",
    "print(withCampDF[\"Tumor Volume (mm3)\"].min())\n",
    "print(withCampDF[\"Tumor Volume (mm3)\"].max())\n",
    "print(\"KETA\")\n",
    "# print(withCampDFF[\"Tumor Volume (mm3)\"].mean())\n",
    "print(withKeta[\"Tumor Volume (mm3)\"].mean())\n",
    "print(withKeta[\"Tumor Volume (mm3)\"].min())\n",
    "print(withKeta[\"Tumor Volume (mm3)\"].max())\n",
    "print(\"\")\n",
    "# r=float(withCampDF[\"Tumor Volume (mm3)\"].mean())-float(withCampDFF[\"Tumor Volume (mm3)\"].mean())\n",
    "# r\n",
    "math = 23.34-45\n",
    "#ketapril - capomulin max = 30.41\n",
    "#ketapril - capomulin average  = 14.55\n",
    "#dif in min =\n",
    "math\n",
    "print(withInfu[\"Tumor Volume (mm3)\"].min())\n"
   ]
  },
  {
   "cell_type": "code",
   "execution_count": 137,
   "metadata": {
    "scrolled": true
   },
   "outputs": [
    {
     "data": {
      "text/html": [
       "<div>\n",
       "<style scoped>\n",
       "    .dataframe tbody tr th:only-of-type {\n",
       "        vertical-align: middle;\n",
       "    }\n",
       "\n",
       "    .dataframe tbody tr th {\n",
       "        vertical-align: top;\n",
       "    }\n",
       "\n",
       "    .dataframe thead th {\n",
       "        text-align: right;\n",
       "    }\n",
       "</style>\n",
       "<table border=\"1\" class=\"dataframe\">\n",
       "  <thead>\n",
       "    <tr style=\"text-align: right;\">\n",
       "      <th></th>\n",
       "      <th>Mouse ID</th>\n",
       "      <th>Timepoint</th>\n",
       "      <th>Tumor Volume (mm3)</th>\n",
       "      <th>Metastatic Sites</th>\n",
       "      <th>Drug Regimen</th>\n",
       "      <th>Sex</th>\n",
       "      <th>Age_months</th>\n",
       "      <th>Weight (g)</th>\n",
       "    </tr>\n",
       "  </thead>\n",
       "  <tbody>\n",
       "    <tr>\n",
       "      <th>332</th>\n",
       "      <td>j119</td>\n",
       "      <td>20</td>\n",
       "      <td>48.158209</td>\n",
       "      <td>1</td>\n",
       "      <td>Capomulin</td>\n",
       "      <td>Female</td>\n",
       "      <td>7</td>\n",
       "      <td>23</td>\n",
       "    </tr>\n",
       "  </tbody>\n",
       "</table>\n",
       "</div>"
      ],
      "text/plain": [
       "    Mouse ID  Timepoint  Tumor Volume (mm3)  Metastatic Sites Drug Regimen  \\\n",
       "332     j119         20           48.158209                 1    Capomulin   \n",
       "\n",
       "        Sex  Age_months  Weight (g)  \n",
       "332  Female           7          23  "
      ]
     },
     "execution_count": 137,
     "metadata": {},
     "output_type": "execute_result"
    }
   ],
   "source": [
    "cap_max = withCampDF.loc[lambda x: [x[\"Tumor Volume (mm3)\"].idxmax()],:] \n",
    "cap_max\n"
   ]
  },
  {
   "cell_type": "code",
   "execution_count": 150,
   "metadata": {},
   "outputs": [
    {
     "name": "stdout",
     "output_type": "stream",
     "text": [
      "47.55428429\n",
      "23.34359787\n"
     ]
    },
    {
     "data": {
      "text/plain": [
       "203.7144597624959"
      ]
     },
     "execution_count": 150,
     "metadata": {},
     "output_type": "execute_result"
    }
   ],
   "source": [
    "percent_cap_max = (min_drug.loc[1227,\"Tumor Volume (mm3)\"]/max_drug.loc[19,\"Tumor Volume (mm3)\"])*100\n",
    "print(max_drug.loc[1227,\"Tumor Volume (mm3)\"])\n",
    "print(min_drug.loc[19,\"Tumor Volume (mm3)\"])\n",
    "percent_cap_max\n"
   ]
  },
  {
   "cell_type": "code",
   "execution_count": 102,
   "metadata": {},
   "outputs": [
    {
     "data": {
      "text/plain": [
       "19"
      ]
     },
     "execution_count": 102,
     "metadata": {},
     "output_type": "execute_result"
    }
   ],
   "source": [
    "withCampDF['Tumor Volume (mm3)'].idxmin()"
   ]
  },
  {
   "cell_type": "code",
   "execution_count": 81,
   "metadata": {
    "scrolled": false
   },
   "outputs": [
    {
     "data": {
      "text/html": [
       "<div>\n",
       "<style scoped>\n",
       "    .dataframe tbody tr th:only-of-type {\n",
       "        vertical-align: middle;\n",
       "    }\n",
       "\n",
       "    .dataframe tbody tr th {\n",
       "        vertical-align: top;\n",
       "    }\n",
       "\n",
       "    .dataframe thead th {\n",
       "        text-align: right;\n",
       "    }\n",
       "</style>\n",
       "<table border=\"1\" class=\"dataframe\">\n",
       "  <thead>\n",
       "    <tr style=\"text-align: right;\">\n",
       "      <th></th>\n",
       "      <th>Mouse ID</th>\n",
       "      <th>Timepoint</th>\n",
       "      <th>Tumor Volume (mm3)</th>\n",
       "      <th>Metastatic Sites</th>\n",
       "      <th>Drug Regimen</th>\n",
       "      <th>Sex</th>\n",
       "      <th>Age_months</th>\n",
       "      <th>Weight (g)</th>\n",
       "    </tr>\n",
       "  </thead>\n",
       "  <tbody>\n",
       "    <tr>\n",
       "      <th>0</th>\n",
       "      <td>k403</td>\n",
       "      <td>0</td>\n",
       "      <td>45.000000</td>\n",
       "      <td>0</td>\n",
       "      <td>Ramicane</td>\n",
       "      <td>Male</td>\n",
       "      <td>21</td>\n",
       "      <td>16</td>\n",
       "    </tr>\n",
       "    <tr>\n",
       "      <th>1</th>\n",
       "      <td>k403</td>\n",
       "      <td>5</td>\n",
       "      <td>38.825898</td>\n",
       "      <td>0</td>\n",
       "      <td>Ramicane</td>\n",
       "      <td>Male</td>\n",
       "      <td>21</td>\n",
       "      <td>16</td>\n",
       "    </tr>\n",
       "    <tr>\n",
       "      <th>2</th>\n",
       "      <td>k403</td>\n",
       "      <td>10</td>\n",
       "      <td>35.014271</td>\n",
       "      <td>1</td>\n",
       "      <td>Ramicane</td>\n",
       "      <td>Male</td>\n",
       "      <td>21</td>\n",
       "      <td>16</td>\n",
       "    </tr>\n",
       "    <tr>\n",
       "      <th>3</th>\n",
       "      <td>k403</td>\n",
       "      <td>15</td>\n",
       "      <td>34.223992</td>\n",
       "      <td>1</td>\n",
       "      <td>Ramicane</td>\n",
       "      <td>Male</td>\n",
       "      <td>21</td>\n",
       "      <td>16</td>\n",
       "    </tr>\n",
       "    <tr>\n",
       "      <th>4</th>\n",
       "      <td>k403</td>\n",
       "      <td>20</td>\n",
       "      <td>32.997729</td>\n",
       "      <td>1</td>\n",
       "      <td>Ramicane</td>\n",
       "      <td>Male</td>\n",
       "      <td>21</td>\n",
       "      <td>16</td>\n",
       "    </tr>\n",
       "    <tr>\n",
       "      <th>...</th>\n",
       "      <td>...</td>\n",
       "      <td>...</td>\n",
       "      <td>...</td>\n",
       "      <td>...</td>\n",
       "      <td>...</td>\n",
       "      <td>...</td>\n",
       "      <td>...</td>\n",
       "      <td>...</td>\n",
       "    </tr>\n",
       "    <tr>\n",
       "      <th>1888</th>\n",
       "      <td>z969</td>\n",
       "      <td>25</td>\n",
       "      <td>63.145652</td>\n",
       "      <td>2</td>\n",
       "      <td>Naftisol</td>\n",
       "      <td>Male</td>\n",
       "      <td>9</td>\n",
       "      <td>30</td>\n",
       "    </tr>\n",
       "    <tr>\n",
       "      <th>1889</th>\n",
       "      <td>z969</td>\n",
       "      <td>30</td>\n",
       "      <td>65.841013</td>\n",
       "      <td>3</td>\n",
       "      <td>Naftisol</td>\n",
       "      <td>Male</td>\n",
       "      <td>9</td>\n",
       "      <td>30</td>\n",
       "    </tr>\n",
       "    <tr>\n",
       "      <th>1890</th>\n",
       "      <td>z969</td>\n",
       "      <td>35</td>\n",
       "      <td>69.176246</td>\n",
       "      <td>4</td>\n",
       "      <td>Naftisol</td>\n",
       "      <td>Male</td>\n",
       "      <td>9</td>\n",
       "      <td>30</td>\n",
       "    </tr>\n",
       "    <tr>\n",
       "      <th>1891</th>\n",
       "      <td>z969</td>\n",
       "      <td>40</td>\n",
       "      <td>70.314904</td>\n",
       "      <td>4</td>\n",
       "      <td>Naftisol</td>\n",
       "      <td>Male</td>\n",
       "      <td>9</td>\n",
       "      <td>30</td>\n",
       "    </tr>\n",
       "    <tr>\n",
       "      <th>1892</th>\n",
       "      <td>z969</td>\n",
       "      <td>45</td>\n",
       "      <td>73.867845</td>\n",
       "      <td>4</td>\n",
       "      <td>Naftisol</td>\n",
       "      <td>Male</td>\n",
       "      <td>9</td>\n",
       "      <td>30</td>\n",
       "    </tr>\n",
       "  </tbody>\n",
       "</table>\n",
       "<p>1880 rows × 8 columns</p>\n",
       "</div>"
      ],
      "text/plain": [
       "     Mouse ID  Timepoint  Tumor Volume (mm3)  Metastatic Sites Drug Regimen  \\\n",
       "0        k403          0           45.000000                 0     Ramicane   \n",
       "1        k403          5           38.825898                 0     Ramicane   \n",
       "2        k403         10           35.014271                 1     Ramicane   \n",
       "3        k403         15           34.223992                 1     Ramicane   \n",
       "4        k403         20           32.997729                 1     Ramicane   \n",
       "...       ...        ...                 ...               ...          ...   \n",
       "1888     z969         25           63.145652                 2     Naftisol   \n",
       "1889     z969         30           65.841013                 3     Naftisol   \n",
       "1890     z969         35           69.176246                 4     Naftisol   \n",
       "1891     z969         40           70.314904                 4     Naftisol   \n",
       "1892     z969         45           73.867845                 4     Naftisol   \n",
       "\n",
       "       Sex  Age_months  Weight (g)  \n",
       "0     Male          21          16  \n",
       "1     Male          21          16  \n",
       "2     Male          21          16  \n",
       "3     Male          21          16  \n",
       "4     Male          21          16  \n",
       "...    ...         ...         ...  \n",
       "1888  Male           9          30  \n",
       "1889  Male           9          30  \n",
       "1890  Male           9          30  \n",
       "1891  Male           9          30  \n",
       "1892  Male           9          30  \n",
       "\n",
       "[1880 rows x 8 columns]"
      ]
     },
     "execution_count": 81,
     "metadata": {},
     "output_type": "execute_result"
    }
   ],
   "source": [
    "# Create a clean DataFrame by dropping the duplicate mouse by its ID.##cooy#POTENTIAL DELETE\n",
    "# Optional: Get all the data for the duplicate mouse ID. \n",
    "clean_complete_v2 = extra_mice.drop_duplicates(subset=[\"Mouse ID\",\"Timepoint\"],keep = \"last\")\n",
    "clean_complete_v2"
   ]
  },
  {
   "cell_type": "code",
   "execution_count": 17,
   "metadata": {},
   "outputs": [
    {
     "data": {
      "text/html": [
       "<div>\n",
       "<style scoped>\n",
       "    .dataframe tbody tr th:only-of-type {\n",
       "        vertical-align: middle;\n",
       "    }\n",
       "\n",
       "    .dataframe tbody tr th {\n",
       "        vertical-align: top;\n",
       "    }\n",
       "\n",
       "    .dataframe thead th {\n",
       "        text-align: right;\n",
       "    }\n",
       "</style>\n",
       "<table border=\"1\" class=\"dataframe\">\n",
       "  <thead>\n",
       "    <tr style=\"text-align: right;\">\n",
       "      <th></th>\n",
       "      <th>Mouse ID</th>\n",
       "      <th>Timepoint</th>\n",
       "      <th>Tumor Volume (mm3)</th>\n",
       "      <th>Metastatic Sites</th>\n",
       "      <th>Drug Regimen</th>\n",
       "      <th>Sex</th>\n",
       "      <th>Age_months</th>\n",
       "      <th>Weight (g)</th>\n",
       "    </tr>\n",
       "  </thead>\n",
       "  <tbody>\n",
       "  </tbody>\n",
       "</table>\n",
       "</div>"
      ],
      "text/plain": [
       "Empty DataFrame\n",
       "Columns: [Mouse ID, Timepoint, Tumor Volume (mm3), Metastatic Sites, Drug Regimen, Sex, Age_months, Weight (g)]\n",
       "Index: []"
      ]
     },
     "execution_count": 17,
     "metadata": {},
     "output_type": "execute_result"
    }
   ],
   "source": [
    "##copy/keep\n",
    "extra_mice2 = clean_complete_v2.loc[clean_complete_v2[\"Mouse ID\"] == \"g989\", :]\n",
    "extra_mice2\n"
   ]
  },
  {
   "cell_type": "code",
   "execution_count": 18,
   "metadata": {},
   "outputs": [
    {
     "data": {
      "text/plain": [
       "248"
      ]
     },
     "execution_count": 18,
     "metadata": {},
     "output_type": "execute_result"
    }
   ],
   "source": [
    "# Checking the number of mice in the clean DataFrame###USE CLEAN_COMPLETE V1\n",
    "mice_actuals= clean_complete_v1['Mouse ID'].nunique()\n",
    "mice_actuals2 = len(clean_df[\"Mouse ID\"].unique())\n",
    "mice_actuals2\n",
    "\n"
   ]
  },
  {
   "cell_type": "code",
   "execution_count": 19,
   "metadata": {},
   "outputs": [],
   "source": [
    "# Checking the number of mice in the clean DataFrame.###ORIGINAL CAREFUL\n",
    "\n"
   ]
  },
  {
   "cell_type": "code",
   "execution_count": null,
   "metadata": {},
   "outputs": [],
   "source": [
    "clean_complete_v1.min"
   ]
  },
  {
   "cell_type": "markdown",
   "metadata": {},
   "source": [
    "## Summary Statistics"
   ]
  },
  {
   "cell_type": "code",
   "execution_count": 20,
   "metadata": {
    "scrolled": true
   },
   "outputs": [
    {
     "data": {
      "text/html": [
       "<div>\n",
       "<style scoped>\n",
       "    .dataframe tbody tr th:only-of-type {\n",
       "        vertical-align: middle;\n",
       "    }\n",
       "\n",
       "    .dataframe tbody tr th {\n",
       "        vertical-align: top;\n",
       "    }\n",
       "\n",
       "    .dataframe thead th {\n",
       "        text-align: right;\n",
       "    }\n",
       "</style>\n",
       "<table border=\"1\" class=\"dataframe\">\n",
       "  <thead>\n",
       "    <tr style=\"text-align: right;\">\n",
       "      <th></th>\n",
       "      <th>Mean</th>\n",
       "      <th>Median</th>\n",
       "      <th>Variance</th>\n",
       "      <th>Standard Deviation</th>\n",
       "      <th>SEM</th>\n",
       "    </tr>\n",
       "    <tr>\n",
       "      <th>Drug Regimen</th>\n",
       "      <th></th>\n",
       "      <th></th>\n",
       "      <th></th>\n",
       "      <th></th>\n",
       "      <th></th>\n",
       "    </tr>\n",
       "  </thead>\n",
       "  <tbody>\n",
       "    <tr>\n",
       "      <th>Capomulin</th>\n",
       "      <td>40.675741</td>\n",
       "      <td>41.557809</td>\n",
       "      <td>24.947764</td>\n",
       "      <td>4.994774</td>\n",
       "      <td>0.329346</td>\n",
       "    </tr>\n",
       "    <tr>\n",
       "      <th>Ceftamin</th>\n",
       "      <td>52.591172</td>\n",
       "      <td>51.776157</td>\n",
       "      <td>39.290177</td>\n",
       "      <td>6.268188</td>\n",
       "      <td>0.469821</td>\n",
       "    </tr>\n",
       "    <tr>\n",
       "      <th>Infubinol</th>\n",
       "      <td>52.884795</td>\n",
       "      <td>51.820584</td>\n",
       "      <td>43.128684</td>\n",
       "      <td>6.567243</td>\n",
       "      <td>0.492236</td>\n",
       "    </tr>\n",
       "    <tr>\n",
       "      <th>Ketapril</th>\n",
       "      <td>55.235638</td>\n",
       "      <td>53.698743</td>\n",
       "      <td>68.553577</td>\n",
       "      <td>8.279709</td>\n",
       "      <td>0.603860</td>\n",
       "    </tr>\n",
       "    <tr>\n",
       "      <th>Naftisol</th>\n",
       "      <td>54.331565</td>\n",
       "      <td>52.509285</td>\n",
       "      <td>66.173479</td>\n",
       "      <td>8.134708</td>\n",
       "      <td>0.596466</td>\n",
       "    </tr>\n",
       "    <tr>\n",
       "      <th>Placebo</th>\n",
       "      <td>54.033581</td>\n",
       "      <td>52.288934</td>\n",
       "      <td>61.168083</td>\n",
       "      <td>7.821003</td>\n",
       "      <td>0.581331</td>\n",
       "    </tr>\n",
       "    <tr>\n",
       "      <th>Propriva</th>\n",
       "      <td>52.382993</td>\n",
       "      <td>50.783528</td>\n",
       "      <td>43.220205</td>\n",
       "      <td>6.574208</td>\n",
       "      <td>0.526358</td>\n",
       "    </tr>\n",
       "    <tr>\n",
       "      <th>Ramicane</th>\n",
       "      <td>40.216745</td>\n",
       "      <td>40.673236</td>\n",
       "      <td>23.486704</td>\n",
       "      <td>4.846308</td>\n",
       "      <td>0.320955</td>\n",
       "    </tr>\n",
       "    <tr>\n",
       "      <th>Stelasyn</th>\n",
       "      <td>54.233149</td>\n",
       "      <td>52.431737</td>\n",
       "      <td>59.450562</td>\n",
       "      <td>7.710419</td>\n",
       "      <td>0.573111</td>\n",
       "    </tr>\n",
       "    <tr>\n",
       "      <th>Zoniferol</th>\n",
       "      <td>53.236507</td>\n",
       "      <td>51.818479</td>\n",
       "      <td>48.533355</td>\n",
       "      <td>6.966589</td>\n",
       "      <td>0.516398</td>\n",
       "    </tr>\n",
       "  </tbody>\n",
       "</table>\n",
       "</div>"
      ],
      "text/plain": [
       "                   Mean     Median   Variance  Standard Deviation       SEM\n",
       "Drug Regimen                                                               \n",
       "Capomulin     40.675741  41.557809  24.947764            4.994774  0.329346\n",
       "Ceftamin      52.591172  51.776157  39.290177            6.268188  0.469821\n",
       "Infubinol     52.884795  51.820584  43.128684            6.567243  0.492236\n",
       "Ketapril      55.235638  53.698743  68.553577            8.279709  0.603860\n",
       "Naftisol      54.331565  52.509285  66.173479            8.134708  0.596466\n",
       "Placebo       54.033581  52.288934  61.168083            7.821003  0.581331\n",
       "Propriva      52.382993  50.783528  43.220205            6.574208  0.526358\n",
       "Ramicane      40.216745  40.673236  23.486704            4.846308  0.320955\n",
       "Stelasyn      54.233149  52.431737  59.450562            7.710419  0.573111\n",
       "Zoniferol     53.236507  51.818479  48.533355            6.966589  0.516398"
      ]
     },
     "execution_count": 20,
     "metadata": {},
     "output_type": "execute_result"
    }
   ],
   "source": [
    "# Generate a summary statistics table of mean, median, variance, standard deviation, and SEM of the tumor volume for each regimen\n",
    "drug_regimen_observations = clean_complete_v1.groupby(['Drug Regimen'])\n",
    "# Use groupby and summary statistical methods to calculate the following properties of each drug regimen: \n",
    "# mean, median, variance, standard deviation, and SEM of the tumor volume. \n",
    "# Assemble the resulting series into a single summary DataFrame.\n",
    "drug_regimen_mean = drug_regimen_observations['Tumor Volume (mm3)'].mean()\n",
    "drug_regimen_med = drug_regimen_observations['Tumor Volume (mm3)'].median()\n",
    "drug_regimen_var = drug_regimen_observations['Tumor Volume (mm3)'].var()\n",
    "drug_regimen_std = drug_regimen_observations['Tumor Volume (mm3)'].std()\n",
    "drug_regimen_sem = drug_regimen_observations['Tumor Volume (mm3)'].sem()\n",
    "\n",
    "drug_regimen_statistics = pd.DataFrame({\n",
    "                        \"Mean\": drug_regimen_mean,\n",
    "                        \"Median\" : drug_regimen_med,\n",
    "                        \"Variance\" : drug_regimen_var,\n",
    "                        \"Standard Deviation\" : drug_regimen_std,\n",
    "                        \"SEM\" : drug_regimen_sem\n",
    "                        })\n",
    "\n",
    "drug_regimen_statistics"
   ]
  },
  {
   "cell_type": "code",
   "execution_count": 21,
   "metadata": {
    "scrolled": true
   },
   "outputs": [
    {
     "data": {
      "text/html": [
       "<div>\n",
       "<style scoped>\n",
       "    .dataframe tbody tr th:only-of-type {\n",
       "        vertical-align: middle;\n",
       "    }\n",
       "\n",
       "    .dataframe tbody tr th {\n",
       "        vertical-align: top;\n",
       "    }\n",
       "\n",
       "    .dataframe thead th {\n",
       "        text-align: right;\n",
       "    }\n",
       "</style>\n",
       "<table border=\"1\" class=\"dataframe\">\n",
       "  <thead>\n",
       "    <tr style=\"text-align: right;\">\n",
       "      <th></th>\n",
       "      <th>mean</th>\n",
       "      <th>median</th>\n",
       "      <th>var</th>\n",
       "      <th>std</th>\n",
       "      <th>sem</th>\n",
       "    </tr>\n",
       "    <tr>\n",
       "      <th>Drug Regimen</th>\n",
       "      <th></th>\n",
       "      <th></th>\n",
       "      <th></th>\n",
       "      <th></th>\n",
       "      <th></th>\n",
       "    </tr>\n",
       "  </thead>\n",
       "  <tbody>\n",
       "    <tr>\n",
       "      <th>Capomulin</th>\n",
       "      <td>40.675741</td>\n",
       "      <td>41.557809</td>\n",
       "      <td>24.947764</td>\n",
       "      <td>4.994774</td>\n",
       "      <td>0.329346</td>\n",
       "    </tr>\n",
       "    <tr>\n",
       "      <th>Ceftamin</th>\n",
       "      <td>52.591172</td>\n",
       "      <td>51.776157</td>\n",
       "      <td>39.290177</td>\n",
       "      <td>6.268188</td>\n",
       "      <td>0.469821</td>\n",
       "    </tr>\n",
       "    <tr>\n",
       "      <th>Infubinol</th>\n",
       "      <td>52.884795</td>\n",
       "      <td>51.820584</td>\n",
       "      <td>43.128684</td>\n",
       "      <td>6.567243</td>\n",
       "      <td>0.492236</td>\n",
       "    </tr>\n",
       "    <tr>\n",
       "      <th>Ketapril</th>\n",
       "      <td>55.235638</td>\n",
       "      <td>53.698743</td>\n",
       "      <td>68.553577</td>\n",
       "      <td>8.279709</td>\n",
       "      <td>0.603860</td>\n",
       "    </tr>\n",
       "    <tr>\n",
       "      <th>Naftisol</th>\n",
       "      <td>54.331565</td>\n",
       "      <td>52.509285</td>\n",
       "      <td>66.173479</td>\n",
       "      <td>8.134708</td>\n",
       "      <td>0.596466</td>\n",
       "    </tr>\n",
       "    <tr>\n",
       "      <th>Placebo</th>\n",
       "      <td>54.033581</td>\n",
       "      <td>52.288934</td>\n",
       "      <td>61.168083</td>\n",
       "      <td>7.821003</td>\n",
       "      <td>0.581331</td>\n",
       "    </tr>\n",
       "    <tr>\n",
       "      <th>Propriva</th>\n",
       "      <td>52.382993</td>\n",
       "      <td>50.783528</td>\n",
       "      <td>43.220205</td>\n",
       "      <td>6.574208</td>\n",
       "      <td>0.526358</td>\n",
       "    </tr>\n",
       "    <tr>\n",
       "      <th>Ramicane</th>\n",
       "      <td>40.216745</td>\n",
       "      <td>40.673236</td>\n",
       "      <td>23.486704</td>\n",
       "      <td>4.846308</td>\n",
       "      <td>0.320955</td>\n",
       "    </tr>\n",
       "    <tr>\n",
       "      <th>Stelasyn</th>\n",
       "      <td>54.233149</td>\n",
       "      <td>52.431737</td>\n",
       "      <td>59.450562</td>\n",
       "      <td>7.710419</td>\n",
       "      <td>0.573111</td>\n",
       "    </tr>\n",
       "    <tr>\n",
       "      <th>Zoniferol</th>\n",
       "      <td>53.236507</td>\n",
       "      <td>51.818479</td>\n",
       "      <td>48.533355</td>\n",
       "      <td>6.966589</td>\n",
       "      <td>0.516398</td>\n",
       "    </tr>\n",
       "  </tbody>\n",
       "</table>\n",
       "</div>"
      ],
      "text/plain": [
       "                   mean     median        var       std       sem\n",
       "Drug Regimen                                                     \n",
       "Capomulin     40.675741  41.557809  24.947764  4.994774  0.329346\n",
       "Ceftamin      52.591172  51.776157  39.290177  6.268188  0.469821\n",
       "Infubinol     52.884795  51.820584  43.128684  6.567243  0.492236\n",
       "Ketapril      55.235638  53.698743  68.553577  8.279709  0.603860\n",
       "Naftisol      54.331565  52.509285  66.173479  8.134708  0.596466\n",
       "Placebo       54.033581  52.288934  61.168083  7.821003  0.581331\n",
       "Propriva      52.382993  50.783528  43.220205  6.574208  0.526358\n",
       "Ramicane      40.216745  40.673236  23.486704  4.846308  0.320955\n",
       "Stelasyn      54.233149  52.431737  59.450562  7.710419  0.573111\n",
       "Zoniferol     53.236507  51.818479  48.533355  6.966589  0.516398"
      ]
     },
     "execution_count": 21,
     "metadata": {},
     "output_type": "execute_result"
    }
   ],
   "source": [
    "# Generate a summary statistics table of mean, median, variance, standard deviation, \n",
    "# and SEM of the tumor volume for each regimen\n",
    "\n",
    "# Using the aggregation method, produce the same summary statistics in a single line.\n",
    "drug_regimen_observations_2 = clean_complete_v1.groupby(['Drug Regimen'])['Tumor Volume (mm3)'].agg(['mean', 'median', 'var', 'std', 'sem'])\n",
    "drug_regimen_observations_2"
   ]
  },
  {
   "cell_type": "code",
   "execution_count": 45,
   "metadata": {
    "scrolled": true
   },
   "outputs": [
    {
     "name": "stdout",
     "output_type": "stream",
     "text": [
      "5.0\n"
     ]
    },
    {
     "data": {
      "text/plain": [
       "43.20771756827778"
      ]
     },
     "execution_count": 45,
     "metadata": {},
     "output_type": "execute_result"
    }
   ],
   "source": [
    "# SCRATCH Generate a summary statistics table of mean, median, variance, standard deviation, \n",
    "# and SEM of the tumor volume for each regimen\n",
    "\n",
    "# Using the aggregation method, produce the same summary statistics in a single line.\n",
    "drug_regimen_observations_2 = clean_complete_v1.groupby(['Sex'])['Age_months'].agg(['mean', 'median', 'var', 'std', 'sem'])\n",
    "drug_regimen_observations_2\n",
    "\n",
    "ave_age = (11.650538+13.901879)/2\n",
    "ave_age\n",
    "\n",
    "# 9 mice days = 1 human year\n",
    "\n",
    "def mice_to_human(num_days):\n",
    "    conversion = num_days / 9\n",
    "    print(conversion)\n",
    "    \n",
    "    \n",
    "mice_to_human(45)\n",
    "\n",
    "\n",
    "mice_m_to_days = ave_age*30.437\n",
    "mice_yrs_to_human_yrs = mice_m_to_days / 9\n",
    "mice_yrs_to_human_yrs\n",
    "\n",
    "\n",
    "\n"
   ]
  },
  {
   "cell_type": "markdown",
   "metadata": {},
   "source": [
    "## Bar and Pie Charts"
   ]
  },
  {
   "cell_type": "code",
   "execution_count": 22,
   "metadata": {
    "scrolled": true
   },
   "outputs": [
    {
     "data": {
      "image/png": "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\n",
      "text/plain": [
       "<Figure size 640x480 with 1 Axes>"
      ]
     },
     "metadata": {},
     "output_type": "display_data"
    }
   ],
   "source": [
    "#KEEP Generate a bar plot showing the total number of timepoints for all mice tested for each drug regimen using Pandas.\n",
    "timepoint_summary = clean_complete_v1.groupby(['Drug Regimen'])['Timepoint'].count()\n",
    "timepoint_summary.sort_values(ascending=False).plot.bar()\n",
    "plt.show()\n"
   ]
  },
  {
   "cell_type": "code",
   "execution_count": 23,
   "metadata": {
    "scrolled": true
   },
   "outputs": [
    {
     "data": {
      "image/png": "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\n",
      "text/plain": [
       "<Figure size 640x480 with 1 Axes>"
      ]
     },
     "metadata": {},
     "output_type": "display_data"
    }
   ],
   "source": [
    "# Generate a bar plot showing the total number of timepoints for all mice tested for each drug regimen using pyplot.\n",
    "\n",
    "timepoint_summary_2 = timepoint_summary.sort_values(ascending=False)\n",
    "plt.bar(timepoint_summary_2.index,timepoint_summary_2.values)\n",
    "plt.ylabel('Number of Timepoints',size = 10)\n",
    "plt.xlabel('Drug Regimen') \n",
    "plt.xticks(rotation='vertical') \n",
    "plt.show()"
   ]
  },
  {
   "cell_type": "code",
   "execution_count": 24,
   "metadata": {
    "scrolled": true
   },
   "outputs": [
    {
     "data": {
      "text/plain": [
       "<AxesSubplot:ylabel='Sex'>"
      ]
     },
     "execution_count": 24,
     "metadata": {},
     "output_type": "execute_result"
    },
    {
     "data": {
      "image/png": "iVBORw0KGgoAAAANSUhEUgAAAa0AAAGVCAYAAABNf673AAAAOXRFWHRTb2Z0d2FyZQBNYXRwbG90bGliIHZlcnNpb24zLjUuMiwgaHR0cHM6Ly9tYXRwbG90bGliLm9yZy8qNh9FAAAACXBIWXMAAA9hAAAPYQGoP6dpAAAy1klEQVR4nO3dd3hUVeI+8Hf6ZCa9kkAgkBBAQgtNUKSIgBSpKrKiyKqrrr3sT11dxfaVdde+6yKi4uqKDQtFUaQrSC9SJSQkkARIL9Nn7u+PgUCkpczkzL33/TzPPCF3kuGdQOadc++552okSZJAREQkA1rRAYiIiBqKpUVERLLB0iIiItlgaRERkWywtIiISDZYWkREJBssLSIikg2WFhERyQZLi4iIZIOlRUREssHSIiIi2WBpERGRbLC0iIhINlhaREQkGywtIiKSDZYWERHJBkuLiIhkg6VFRESywdIiIiLZYGkREZFssLSIiEg2WFpERCQbLC0iIpINlhYREckGS4uIiGSDpUXUSHl5edBoNNi+fbvoKESqw9IiVZgxYwY0Gg3uuOOOs+676667oNFoMGPGjJYPRkSNwtIi1UhNTcWCBQtgt9vrtjkcDnz88cdo27atwGRE1FAsLVKN7OxstG3bFgsXLqzbtnDhQqSmpqJXr15127777jtcfvnliI6ORlxcHMaOHYucnJwLPvaePXswevRohIeHIykpCdOnT0dJSUnQnguRWrG0SFVuueUWvPfee3Wfv/vuu5g5c2a9r6mtrcWDDz6ITZs24ccff4RWq8XEiRPh8/nO+ZhFRUUYPHgwevbsic2bN+O7777DsWPHcN111wX1uRCpkV50AKKWNH36dDz22GN1kyl++uknLFiwAKtWrar7msmTJ9f7nnnz5iExMRF79uxBVlbWWY/51ltvITs7Gy+88ELdtnfffRepqak4cOAAMjMzg/Z8iNSGpUWqEh8fjzFjxmD+/PmQJAljxoxBfHx8va/JycnBk08+iQ0bNqCkpKRuhJWfn3/O0tqyZQtWrlyJ8PDws+7LyclhaREFEEuLVGfmzJm4++67AQD/+te/zrp/3LhxSE1Nxdy5c5GSkgKfz4esrCy4XK5zPp7P58O4ceMwe/bss+5LTk4ObHgilWNpkeqMGjWqroBGjhxZ777S0lLs3bsXc+bMwaBBgwAA69atu+DjZWdn44svvkBaWhr0ev5KEQUTJ2KQ6uh0Ouzduxd79+6FTqerd19MTAzi4uLw9ttv4+DBg1ixYgUefPDBCz7en//8Z5SVleGGG27Axo0bcejQIXz//feYOXMmvF5vMJ8KkeqwtEiVIiMjERkZedZ2rVaLBQsWYMuWLcjKysIDDzyAl1566YKPlZKSgp9++glerxcjR45EVlYW7rvvPkRFRUGr5a8YUSBpJEmSRIcgIiJqCL4NJCIi2WBpERGRbLC0iIhINlhaREQkGywtIiKSDZYWERHJBkuLiIhkg6VFRESywdIiIiLZYGkREZFscElqomDwegBHJeCoAOwVgLMScNYArlrAVQN4XYDk+91N8t8gAXoTYLAARuvvPloAUyRgjQfMUYKfJFHLY2kRNZbXA5TnAZUFQFWh/1Z98mPVUaCqCLCVAgjysp76MCA8AQhPOnlL9H+MagPEpgOxHYCIpOBmIGphXDCX6HycNUDJAaDkN6BkP3Biv//PZYcAn1t0uoYxRgCx7YG4dH+RxWUASV2BxC6AziA6HVGjsbSIAMBtB4p2AEe3nLxt9Y+mgj1aEkVn8hdXco+Tt57+MjOYRScjuiCWFqlT+WEgdw1wZBNQuBU4vhfweUSnEkur9xdXu8uBtMuAdgOBsBjRqYjqYWmROtSWArmrgEOrgdzVJ0dRdEEaLZDYFUg7VWKXAZZY0alI5VhapExeD3D4J+C37/1FdexXKHZXX0vRaIHWvYFOVwOZVwNJl4hORCrE0iLlcDuAnBXA3kXAgW8Be7noRMoW3dZfXp1G+Xcp6o2iE5EKsLRI3hxVwIFlwN5vgIM/Au5a0YnUyRQJZI4EsqYAGVdyZiIFDUuL5MfnBXJWAjv+B+xbAngcohPRmcJigC7XAN2v90/m0GhEJyIFYWmRfJzYD2z/CNj5KVBdJDoNNUR0O3959ZzmP1+MqJlYWhTanDXAzk+AbR/6p6aTTGmA9GFA31uBzFGAlsueUtOwtCg0leUCG+f6y8pZKToNBVJUW6DPDCD7Zv8aikSNwNKi0HJoFfDLHODAd/5FZEm5dEbgkvFAvz8BqX1FpyGZYGmReB4nsGMB8Mt/gON7RKchEdpdDgx6AMgYLjoJhTiWFonjsgFb3gd+fsO/SjpRcg/g8gf9sw953IvOgaVFLc9VC2x8G/j5TcBWIjoNhaK4jsDl9/tnHvKcLzoDS4tajqvWP7ni59dPXm+K6CKi2wJD/wp0u44jLwLA0qKW4PP6dwOuehGoPS46DclRUjdg+FNAx6tEJyHBWFoUXAeWAT/8DTixT3QSUoK0QcDwWUCb3qKTkCAsLQqO4l3Asr/6LwNCFGhdrgGGP+2/IjOpCkuLAquqCFjxLLDjY55nRcGlMwGX3QsMeggwhIlOQy2EpUWB4fP5ZwSueA5wVYtOQ2oS3RYYNRvoPFp0EmoBLC1qvsLtwOL7gcJtopOQmmWOAka9yIV5FY6lRU3nrAFWPu9fdknyik5DBOjN/pOTL3+AF6VUKJYWNc2+JcDSvwBVR0QnITpbUhYw4S0gubvoJBRgLC1qHEclsORhYNenopMQXZjWAFzxiH+ihk4vOg0FCEuLGi53DfDlnRxdkbwk9wAm/AdIukR0EgoAlhZdnMcJLJ8FbPg3AP53IRnSGYEhjwKX3Q9odaLTUDOwtOjCinYCC28HTuwVnYSo+doOBKa8C0Qmi05CTcTSovNb/29g+VOA1yU6CVHgWOKBSXN47S6ZYmnR2ZzVwNd3A3u+Ep2EKEg0/mnxw57g7kKZYWlRfcf3Ap9MB0p/E52EKPjaDgSmzAMiU0QnoQZiadFpOz8DFt0HuGtFJyFqOZY4YPI7QPow0UmoAVhaBHhcwLLHgU1zRSchEkOjA0Y+D1x6p+gkdBEsLbWzlQEL/gDk/yw6CZF42TcDY/4J6Ayik9B5sLTUrDQH+GgKUHZIdBKi0JE2CLjuA8ASKzoJnQNLS63yfgI++QNgLxedhCj0xLQHblgAJHYWnYR+h6WlRjsWAN/cw/OviC7EFAlc+x7P5woxLC21WfE8sObvolMQyYPWAIz/F9DjetFJ6CSWllr4fMCie4Ft/xWdhEhmNMCIZ4GB94gOQmBpqYPX7V8/cPdC0UmI5Ouy+4GrZolOoXosLaVzO4BPbwJ+WyY6CZH89b4FGPMyoNWKTqJaLC0lc9YAH08F8taKTkKkHFmTgYlv88KSgrC0lMpeDnw4BTi6WXQSIuW5ZDww+V0WlwAsLSWylwPvjwOO7RKdhEi5siYDk+ZylfgWxh2zSuOsBj6czMIiCrZfvwC+vMM/M5daDEtLSVw24KPrgKNbRCchUoddnwJf38XiakEsLaXwOIEF07jwLVFL2/ExsOgegEdaWgRLSwm8HuCzGcChlaKTEKnTtg+BpY+ITqEKLC258/mAhbcB+5eKTkKkbpvmAmv/KTqF4rG05O67/8eVLohCxY/PANs/Fp1C0VhacvbT68DGt0WnIKIzfXMPcPBH0SkUi+dpydWvXwCf/xEA//mIQo4xHJixBEjpKTqJ4nCkJUcFG4Ev7wQLiyhEuWqAj64FyvNEJ1EclpbclOf5p7Z7naKTENGF1B4H/jfVvwYoBQx3D8qJowqYdxVwYp/oJKry9CoHZq2uf5XnJKsGxQ9HAAAW7nVjzhYXthT6UGqXsO1PVvRsdfGlfb7Y48aTK53IKfchPUaL54eZMLGLoe7+j3a68eiPDtS6JPyxlxEvjTDX3ZdX4cOI/9qw+XYrIk2aAD1TCorOY4HrPwQ0/HcKBI605EKSgK/uZGEJ0jVBi6KHwutuu+601t1X65JwWaoeLw43Nfjx1hd4cP3ndkzvbsCOO6yY3t2A6z6345cjHgBAic2HWxfZ8Y+rzFh2oxXzd7ix5IC77vvvXGLHi8NNLCw52LcYWPOS6BSKwSWK5WLdK/7//CSEXgu0Cj/3e7zpPYwA/KOfhnr1FxeuStfhsUH+ontskA6rD3vw6i8ufNxGj0PlEqJMGlyf5R95DW2vw54TPozJBP63yw2jToNJZ4zKKMStfAFo1Q3odLXoJLLHkZYcHFoFrHhOdApV+63Mh5R/VqP9a9WY+rkNh8qbt9bc+gIvRnSo/55xZLoePxd4AQAdY7WwuSVsK/KizC5h01EvuifpUGaX8LeVDrx5tflcD0shS/JfPfzEAdFBZI+lFeoqj/intkte0UlUq39rHT6YEIZlN1owd1wYimskDJxXi1Jb04uruEZC0u9GbknhWhTX+A8xx4RpMH9CGG76yo5+c2twUw8DRmbo8fD3DtzTz4jcCh96zalB1r9r8Pke97n+Cgo1zir/JCpHlegkssbdg6HM4wI+vQmwlYhOompXdzy9G64bgAFtdEh/vQbzd7jx4ICGH8f6vd8fjZKk+tsmdjHUm5ixKs+DXce9eHO0GRmv1+DjyWFoFa5Bv3dqcUU7HRKtfA8a8kp/AxbdC1z7vugkssX/5aHsu0d5mZEQZDVq0C1Ji99Kmz7SahWuQXFN/e8/XutDUvi5J1Y4PRLuWuLAnLFhOFjmg8cHDE7To1O8DplxWvxyhCNx2dj9JbBlvugUssXSClV7FwGb54lOQefg9EjYe8KH5Iim//oMSNXhh0P1i+b7Qx4MTD33VPln1zhxdYYe2ck6eH2Ax3f6TBW3F/DyxBV5+e5RHt9qIpZWKKouBr65V3QKOunh7x1YnedBbrkPvxzxYMpndlQ5Jdzcw7/rrswuYXuxF3tO+Etof4kP24u99UZSN31px2PLHXWf39ffiO9zPJi9zol9JV7MXufE8kNe3N/feNbfv/u4F5/s9uCZof5dkZ3jtdBqNJi31YUlB9zYV+JD3xRe8l1W3Dbgi5n+6+BRo/CYVqg5dT6WvUx0EjrpSJUPN3xhR4lNQoJVg0vb6LDhVivaRfvf832z341bvj5dSFO/sAMAnhpsxNND/LP88it90GpOv0ccmKrHgilheGKFE0+udCI9VotPpoShf5v6v5KSJOH2xQ68MtIEq9G/6zDMoMH7E8z481IHnB7gzdFmtI7k+0/ZKd4F/PA34OrZopPIClfECDUb/uO/3AgRqcO0T4HMkaJTyAZLK5Qc3we8PRjwOC7+tUSkDJZ44M8bAWuc6CSywH0KocLjAr64lYVFpDa2Eu5daQSWVqhY8xJwbJfoFEQkwq7PgP3fiU4hCyytUHB8H/DTq6JTEJFIix8AHJWiU4Q8lpZokgQsug/wui7+tUSkXNWFwPdPik4R8lhaom15DyjYIDoFEYWCrR8AuWtEpwhpLC2Rqo8By58WnYKIQoYEfHMP4LaLDhKyWFoiffsX7sMmovrK84CfXhOdImSxtEQ58D2w5yvRKYgoFK17FagoEJ0iJLG0RPB6gGWPi05BRKHKYwe+f0J0ipDE0hJh8zz/dXWIiM5nz1dA7lrRKUIOS6ul2SuAVS+KTkFEcvDdo4CP10o7E0urpa15iSu4E1HDHPvVf1oM1WFptaSyQ8DGt0WnICI5WfE84KgSnSJksLRa0g9/48oXRNQ49jJg/b9EpwgZLK2WUrAR2LtIdAoikqMN/wZsPKwAsLRazsoXRCcgIrlyVnFR7ZNYWi0h/xfg0ErRKYhIzjbO9S/9pnIsrZawmlPciaiZ3DZg7T9FpxCOpRVsBRuBnBWiUxCREmx5H6g8IjqFUCytYFv1f6ITEJFSeJ3A2pdFpxCKpRVMHGURUaBt/wioOSE6hTAsrWDi/mciCjSPA/jlLdEphGFpBUtpDnBgmegURKREm94BnNWiUwjB0gqWDW8BkESnICIlclQC2z4UnUIIllYw2CuA7f8TnYKIlGzDW4DPJzpFi2NpBcPW+YC7VnQKIlKyisPAPvUtDcfSCjSf13/mOhFRsP0yR3SCFsfSCrS93wCVBaJTEJEaHP4JKFHXVdBZWoG28R3RCYhITba8LzpBi2JpBVLZIeDwOtEpiEhNdnwMeNRznT6WViBt+0h0AiJSG1upqiZksLQCxefzv+MhImppW+aLTtBiWFqBcmglUHVUdAoiUqPcNUBZrugULYKlFSjbuWuQiESRVLNCBksrEOwVwL4lolMQkZr9+oXoBC2CpRUIuxf6V14mIhKlPBco3CY6RdCxtALh14WiExARqeK1iKXVXDUngMM/i05BRATs/kp0gqBjaTXX3m8AySs6BRERUJkPFGwSnSKoWFrNtfcb0QmIiE7b/aXoBEHF0moOezmQx2WbiCiE7P4SkJR7AVqWVnMcWAb4PKJTEBGdVl0IFO8UnSJoWFrNwXOziCgUHVwuOkHQsLSayusBDq0SnYKI6Gy/sbTo945uAZxVolMQEZ3tyEbAUSk6RVCwtJrq0ErRCYiIzs3nAXKU+RrF0moqhf6HICKFOPiD6ARBwdJqCmc1cHSz6BREROd38EfRCYKCpdUUees41Z2IQlt1EXDigOgUAcfSagruGiQiOchfLzpBwLG0miJvregEREQXV/CL6AQBx9JqLGc1cGKf6BRERBeXv0F0goBjaTXW0a2A5BOdgojo4spy/JdPUhCWVmNx1iARyYnCdhGytBrrCEuLiGSkQFm7CFlajcXSIiI5KdgoOkFAsbQaoyIfqD0uOgURUcMd262o62uxtBqDoywikhtXDVCeKzpFwLC0GuPYbtEJiIgaT0GvXSytxuD5WUQkRywtlTqxX3QCIqLGO/ar6AQBw9JqKI8LKDskOgURUeMd2yM6QcCwtBqq9DdA8opOQUTUeOW5gMsmOkVAsLQaiseziEiuJJ//jbcCsLQaiseziEjOyg+LThAQLK2GKlHGuxQiUqkKlpa6VB4RnYCIqOk40lKZqkLRCYiImq4iX3SCgGBpNYTPC1QXiU5BRNR03D2oItXFnO5ORPLGkZaKVB0VnYCIqHncNqBG/lepYGk1BCdhEJES1BwTnaDZWFoNwZEWESmBrVR0gmZjaTWEAobURESwlYlO0GwsrYZwVIpOQETUfBxpqQRLi4iUQK0jreXLl5/3vjlz5jQ5TMhiaRGREqh1pDVmzBg89NBDcLlcddtOnDiBcePG4bHHHgtYuJDB0iIiJbCrdKS1Zs0aLFq0CH379sXu3buxZMkSZGVloaamBjt27Ah0RvFYWkSkBPZy0QmarUml1b9/f2zbtg3du3dH7969MXHiRDz00ENYsWIFUlNTA51RPEeF6ARERM3ntotO0GxNnoixf/9+bNq0CW3atIFer8e+fftgsynjyphncVSJTkBE1HxqLa0XX3wRAwYMwFVXXYVff/0VmzZtqht5rV+/PtAZxfO5RScgImo+BZSWRpIkqbHflJycjHfffRdXX3113Ta3243HH38cr7/+OpxOZ0BDCuXzAs/Eik5BRCogafWAzgRJZ6y7+bRG+LQG+LRGeLVGeLUGeDVGeDSGuptbY4Ab/ptLY4BL0sOJUx/1cEh6OH16aCxxuHH6H0U/zWbRN+Wbdu3ahfj4+HrbDAYDXnrpJYwdOzYgwUKGzyM6AREFgaTRAfozCkJrhK+uJPxF4dUY4NEa/R81BrhPloUberg1BrgkA1wwwAl9XVE4fXo4oIfDp4fDp4ND0sPu08Hu08Pm08HmPfVRhxqPDrVeLWq8OtR4tPBKwT11NjU2DDcG9W8IviaVVnx8PCoqKvD5558jJycHjzzyCGJjY7F161ZkZGQEOqNYPl6ShKi5JI0W0JmAU6MHnRGS1gSfzgDvyZLwavTwao3w/H4UAQNcZ5SEvyD8H52SfxThL4bTRVG/JHSo8Z5ZEv7P3T6N6B9Li/P5RCdoviaV1s6dOzF8+HBERUUhLy8Pt912G2JjY/Hll1/i8OHD+OCDDwKdUxyOtEhmJGgA/ZkFYfKPIrRGf0loTu5mqiuJ0+XgrisJ/0cn9HCdLIczC8Lh08N+qii82tMF4dOh1qNHrdc/gqg9WRROHxffCQVeX6OPBoWcJpXWgw8+iBkzZuDvf/87IiIi6rZfffXVmDZtWsDChQRe/JECTNKZ4LXEw2WKhd0QiypdDCq0UaiRwvy7mk4Wg/OMgnBI/pGD3aeD3auDzaeHzXuyJLw61NaNILSwe3WinyKFKG/jpzCEnCaV1qZNm865XFPr1q1RXFzc7FAhRQnjaQo6yRQFd1gcHMY41BpiUKWNQSmicMIXgSJPBI64rMhzhiOnNgxFtUagVnRiUiOfWkdaZrMZVVVnn7u0f/9+JCQkNDsUkWiSVg9fWDxc5jjYDTGo1seiQhOFUkSh2BuBInc48l1WHLJZcMhmQa1DC3DhFApxPrWOtMaPH49nnnkGn376KQBAo9EgPz8fjz76KCZPnhzQgMLpTaITUIBIxnB4wuLhNMWhVh+DKl0MyhCFE1IEij2RKHBZke+wIMduQYHdBMmmvgP1pGxKOKbVpPO0qqqqMHr0aOzevRvV1dVISUlBUVERBgwYgG+//RZWqzUYWcXgeVohS9LoIIXFwmWOg8MYi2p9DCo00ShFFI57/bvl8p1W5DosyLGFodLdpPdoRIrRKtKMDY9fKTpGszTptzgyMhLr1q3DihUrsHXrVvh8PvTu3RtXXinvH8Y5aXWAzgh4XRf/Wmo2yWCBNywOTlMcbIZYVGmjUa6NxglfBIq9kTjqCke+04IcmwV5dhO8ds5KI2qoaItBdIRma1Rp/fLLLygrK6tbCWPYsGEoKCjAU089BZvNhgkTJuCNN96AyaSwXWr6MJZWE0nQQAqLgdscD4cxBjX6WFRqo1GGSBz3RaLQHYECdzhy7WE4ZLOgpNoAVItOTaRMUWEqK62nn34aQ4YMqSutXbt24bbbbsPNN9+MLl264KWXXkJKSgqefvrpYGQVxxAGOHmU/ZRzTdku10SjRIrEMW84Cj0RyHNYkWu3INdmhtPB0RBRKFDdSGv79u149tln6z5fsGAB+vXrh7lz5wIAUlNT8dRTTymztBTOP2U7Hg5j7O+mbEeiyBPOKdtEChAdZhQdodkaVVrl5eVISkqq+3z16tUYNWpU3ed9+/ZFQUFB4NKFChmWlqQ1wBcW55+ybYxF9ckTWEukKBzzRqDQHYF8pwW5disO2cI4ZZtIBVQ30kpKSkJubi5SU1PhcrmwdetWzJo1q+7+6upqGAzy/6GcxRQpOgGAU1O2E+A0xf5uyvap0VA4DjusyLGF4QinbBPR70SprbRGjRqFRx99FLNnz8ZXX30Fi8WCQYMG1d2/c+dOpKenBzykcJa4oDzsmVO27cY41Oij603ZLjw5ZTvPYcFvtWGodugBXo+SiJpIdbsHn3vuOUyaNAmDBw9GeHg45s+fD6Px9A/h3XffxYgRIwIeUjhLw8/TOmvKti4G5YjECSmybsr2Yad/NHSYU7aJqAWpbvdgQkIC1q5di8rKSoSHh0Onq78w52effYbw8PCABgwFrsi2kGIy603ZLkUUjvsiUHTGlO0cmwWlnLJNRCEqWm1T3k+Jioo65/bYWGWuHPFfw7V4tqir6BhERM2ihGNa3DfVAK0izaIjEBE1mxJOLmZpNUBSpMJW+CAiVYq2yH8iBkurAZI40iIimTPoNAg3yX/RaJZWA7C0iEjulDDKAlhaDWLUaxFrVcY/OBGpU/t4ZVwyiqXVQBxtEZGcZSYp43QkllYDtY6W3/qDRESnZCZFiI4QECytBurcShn/4ESkTh0TlfEaxtJqoEtSQmPRXCKipuDuQZW5JJmlRUTyFGc1Ii5cGeebsrQaqF2cRRHnOBCR+nRUyCgLYGk1mEajQSce1yIiGVLKJAyApdUo3EVIRHLUkaWlTpyMQURylJnI3YOqxJEWEckRdw+qVKdWEdBpNaJjEBE1WHy4CTEKWoaOpdUIZoNOMet3EZE6KOX8rFNYWo3EXYREJCdK2jUIsLQajZMxiEhOlPaaxdJqpC4caRGRjFyeES86QkCxtBqpq8LetRCRcnVIsCJFYVeoYGk1Uny4iZMxiEgWBilslAWwtJpkcGaC6AhERBd1GUuLAGBo50TREYiILkiv1WBAepzoGAHH0mqCSzvEIsygEx2DiOi8eqRGI8JsEB0j4FhaTWDS6zBQge9giEg5lDZr8BSWVhMN4S5CIgphl3dkadEZhnAyBhGFqHCTHr1So0XHCAqWVhOlxlqQoaDl/olIOS7tEAu9Tpkv78p8Vi1kaCeOtogo9Cj1eBbA0mqWoZ14XIuIQo9Sj2cBLK1m6ds+FuEmvegYRER1WkWakZGorJXdz8TSagaDTsup70QUUpS+Yg9Lq5m4OgYRhZIJvVqLjhBULK1m4nEtIgoVbWLCcGmHWNExgoql1UytoszoqdDzIYhIXiZlt4FGoxEdI6hYWgEwtW+q6AhEpHIaDTAlu43oGEHH0gqAcT1SYDVyAV0iEqdvWizaxllExwg6llYAWE16XNMzRXQMIlKxKb2VP8oCWFoBc0O/tqIjEJFKWYw6jOmWLDpGi2BpBUj3NtG4JDlSdAwiUqFRXVvBqpKFDlhaAXRDP07IIKKWp5ZdgwBLK6DG92rNKxoTUYtqHR2GASpamYelFUCRZgPGdFfHfmUiCg2Tslsr/tysM7G0Aoy7CImoJalp1yDA0gq43u1ikZnEi0MSUfD1TYtBuzir6BgtiqUVBFP7cvo7EQWfGk+1YWkFwaTs1jDq+aMlouBpG2vBNT3Ut6gBX1mDINpixOisVqJjEJGC3TUkHXqd+l7C1feMW8htV3SAiib0EFELSokyY7LKJmCcwtIKkq4pURh5CUdbRBR4dwxJh0GFoyyApRVUD1yVCS1HW0QUQIkRJlzXR72n1rC0gqhTqwiM6a6+A6VEFDy3X9EBZhWvvMPSCrL7h3eEjsMtIgqAOKsRf+jfTnQMoVhaQZaeEI7xvNYWEQXArYM6IEzlF5xlabWA+67sCD1HW0TUDNEWA6YPUPcoC2BptYh2cVZMzlbn9FQiCoxbBrZHuEqumXUhLK0Wcs+VGTCqdIoqETVPhEmPGZeliY4REvgq2kLaxFhwXV+Otoio8W4emIaoMIPoGCGBpdWC7h7aESauSUhEjRBh0uOPl7cXHSNk8BW0BbWKMmNaf/WtykxETffQiEzEWI2iY4QMllYLu2tIBsJUfGIgETVcVutITB+QJjpGSGFptbCECBPuHJIuOgYRhTitBnhuQjcuTvA7LC0B7hySjk5JEaJjEFEIu6FfW/RMjRYdI+SwtAQw6LT4v8nduJguEZ1TfLgRfxnVWXSMkMTSEiS7bQymX8qz24nobI+P7sIp7ufB0hLoL6M6IyXKLDoGEYWQSzvEYhJX0DkvlpZAVpMez03MEh2DiEKEQafBcxP4mnAhLC3BhnVOwtjuyaJjEFEIuG1QB2QkcpLWhbC0QsBT47py/zWRyrWJCcO9V3YUHSPksbRCQEKECX8d3UV0DCISaNY1XVV9ReKGYmmFiOv6pmJgepzoGEQkwIhLknBllyTRMWRBI0mSJDoE+eWV1GLUa2vgcPtER6EAqFz/KSrWfICI3tcgdvjtAABvbTnKV70PR942+By1MKV2RezwP8EQ2/qCj1W7/ydUrv0Q7ooiGKKTEX3FdFgyB9bdX7N7JSpWz4fkdiC8+wjEDJ1Zd5+n8hiOffIkkm9+FVqTJThPlposxmLA0vsGITkqTHQUWeBIK4SkxVtx35WZomNQADiLDqB6xzIYEtLqtkmShOMLn4OnohgJk55A8ozXoI9MxLFPnoDP5Tj/Yx3di5KvZ8PadShSbnkD1q5DceLr2XAW7gcAeG2VKPvuDcQMnYnE655Bza8/wpazqe77S5f9GzGDZ7CwQpBGA7xyfU8WViOwtELMbYPao3ubKNExqBl8LjtKFv0DcaPugdYcXrfdU14IV+F+xI64C6bkTBji2iB2xJ2QXA7U7l193ser2vwNzGm9EDXgOhjiUhE14DqY2/VA1eav/Y9bUQyNyQJrlytgSs6EuW13uEvyAQC1e1ZBo9PD0mngeR+fxLljcDqGdEoUHUNWWFohRq/T4t9/yEaMhbMJ5arsh7cQlt4XYWk9622XvG4AgEZ/+jITGq0OGp0eziN7zvt4zqP7ENa+V71tYe2z4Ty6FwCgj20Nye2E61gOvPZquIoOwJiQBq+9GhVrP0LsVXcE6JlRIPVLi8XDIzqJjiE7LK0Q1CbGgtem9uLahDJUu2c1XMUHETP45rPuM8S2gS4yERWr58PrqIHkdaNyw2fw1pbDW1N23sf01pZDZ42ut01njYa3ttz/Z3M44sc8gJLFL6P4gwdhzRqGsA69Ub5yHiJ6j4Wn8hgK37sXhfPuQu2+dQF9vtQ0cVYj3pjWiyu4N4FedAA6tysyE/DA8Ez884cDoqNQA3mqTqDsx7lIuv6ZeqOpUzQ6PRImPo7Sb1/DkdemAhotzGk9Ye7QuwGPXv/FzT9/6vQ2S+bAehMzHPk74T5xGLFX3YHCt29H/LhHoLPGoOiDB2FOzTqrBKnlaE8ex0qK5BJuTcHSCmF3D8vAjiOVWL73mOgo1ACu4oPw2SpQ9P79pzdKPjgLdqN662K0ffhLmFplIOWWN+Bz1kLyeqCzRKHogwdhbHX+k0p11pi6UdUpPlvleYtH8rhR9v1biBv7EDzlRZB8XpjbdgMAGGJbw1m0H5aM/s19utREfx6agSsyE0THkC2WVgjTaDR4+foeuOaNdcgrtYmOQxdhbtcDyTPfrLetdOlrMMS1QWT/ydBoT584qjVZAQDusqNwFR9E9KAbz/u4ptadYc/bhsi+E+q22XO3wdT63CekV/y8AOYOvWFqlQHXsRzA5627T/J5AB9PqRDl0g6xuH84Zwg3B49phbhIswH/md4bYTxTPuRpTRYYE9Lq3TQGE7TmCBhPTn2v3bfOv+uuohi23zbg2CdPwtLxUoS1z657nJLF/0T56vfrPo/ofQ0cudtQueFzuEsLULnhczgOb0dkn/FnZXCdOAzbvjWIvtxfgvrYNoBGi+od38OWswnu0iMwJnOpIBHiw014/QYex2oujrRkoHOrSLw4uRvuW7BddBRqJm9NGcpXvANvbQV04TEI7zoMUZdNrfc1nqoTgOb0+0lzmy6Iv+YvqFj7ISrWfgh9dCskXPP/YEqpP/NMkiSULXsTMcNug9boP16iNZgQN/p+lP3wFiSvG7FX3QF9RHzwnyjVo9UAr0/ticQIHsdqLq6IISNPf7Mb7/+cJzoGETXS/cM7crdggHD3oIz8dUwX9GkXIzoGETXC5RnxuHcYd8kGCktLRgwnTzxOiDCJjkJEDdA+3orXb+gFLY9jBQxLS2YSI83417Rs6PlLQBTS4sONmH9LP8Razz5nj5qOpSVD/drH4vmJWdCwt4hCktWow3sz+qFtHBcpDjSWlkxd37ctnhxziegYRPQ7eq0G//pDNrpx4eugYGnJ2MzL2+OhqzgjiSiU/N+kbly5PYhYWjJ3z5UdccfgdNExiAjAwyMycW2fVNExFI2lpQCPXt0ZNw1oJzoGkardNqg97ubU9qBjaSnErGu6YkrvNqJjEKnStP5t8VceY24RLC2F0Gg0mD25O8Z0SxYdhUhVJvRMwXPjs0THUA2WloLotBq8OrUnhnXmQWCiljDikiT849oePHm4BbG0FObUqhkDOsSJjkKkaIM6xuPNadnQ6/gy2pL401Ygs0GHd27ug+y20aKjECnSlZ0TMfemPjDq+RLa0vgTVyirSY/3bumHrimRoqMQKcr1fVLx9k19YOY17oTgpUkUrtLmxq0fbMKmvPKLfzERXdC9V3bEgzyhXyiWlgo43F7ct2Ablu0+JjoKkSzptBo8M74r/tCf50OKxtJSCZ9PwlPf7MZ/NxwWHYVIVswGLV6f2gsjurYSHYXA0lKdN1f8hn98f0B0DCJZiLYYMO/mPujdLlZ0FDqJpaVCn20uwGMLd8Hj4z890fm0jg7D/Jl9kZEYIToKnYGlpVLrfivBXR9tQZXDIzoKUcjp3CoC82f2Q1KkWXQU+h2WlorlnKjBrfM3I7ekVnQUopBxaYdYvH1TH0SaDaKj0DmwtFSu0ubGnR9twc85paKjEAk3plsyXr6+B0x6noMVqlhaBI/Xhye/3o2PN+aLjkIkhE6rwQPDO+KuIRlcRzDEsbSozns/5eL5JXs5QYNUpXV0GF6b2hN90jhDUA5YWlTP9oIK3L9gG/JKbaKjEAXdyK5J+PvkHoiy8PiVXLC06Cw2lwezvtmDTzYXiI5CFBRGvRZPjOmCmwakiY5CjcTSovP67tdiPLZwJ8ptbtFRiAKmQ4IVb96QjUu4mLQssbTogo5VOfDwZzuw9rcS0VGImm1ydhs8O6ErLEa96CjURCwtuihJkjBvXS7+vmw/XB6f6DhEjWY16vDshCxMym4jOgo1E0uLGmxvURXuX7Ad+49Vi45C1GBdUyLx5rRstI+3io5CAcDSokZxuL148dt9mL8+D/yfQ6FMowFuHpCGx0Z35snCCsLSoiZZfeAEHv5sB05UO0VHITpLVutIzLomC73bxYiOQgHG0qImK6t14bkle/DltqMcdVFIiAoz4OGRnfCHfm25soVCsbSo2XYUVOCZxXuw5XC56CikUloNcH3fVDwysjNirUbRcSiIWFoUMF9vP4rZ3+5DYaVDdBRSkR5tovDM+Cz0SI0WHYVaAEuLAsrh9mLO6kP4z+oc2N1e0XFIwWKtRjwyshOu75PKXYEqwtKioCiudGD2d/vw1XYe76LA0mqAaf3b4uERnRBt4a5AtWFpUVBtyy/HM4v3YFt+hegopADZbaPxzPgsZLWOEh2FBGFpUdBJkoRvdhTixW/3oYjHu6gJOsRbcfewDEzs1RoaDXcFqhlLi1qM3eXFnDU5mLc2F9VOj+g4JANdUyJx15AMXJ3VisetCABLiwSodrixYGMB3vsplzMN6Zz6t4/FXUMzMDgzQXQUCjEsLRLG4/Vhya4ivLM2F7uOVoqOQ4JpNMCwTom4a2gGV7Kg82JpUUhYn1OKuWsPYeX+45xtqDI6rQZjuiXjrqHp6NyK17iiC2NpUUg5eLwa76zNxcJtR3kZFIUz6rWY0rsN/nRFB7SL4wrs1DAsLQpJJTVOfLD+MD7ccBhltS7RcSiAYiwGXNsnFbde3h6JkWbRcUhmWFoU0hxuLz7fcgTv/5yHg8drRMehJjLqtRjeJRETerbG0M6JMOi0oiORTLG0SDb2FFZh8c5CLN5ZhPwym+g4dBEaDdA3LRaTerXG6O7JiDQbREciBWBpkSztPFKBxTuLsGRnEY5W2EXHoTNkJIZjYq/WGN8zBW1iLKLjkMKwtEjWJEnC1vxyLNpRhKW7inCcF6UUIj7chGt6pGBir9bo1oZLLFHwsLRIMXw+CRvzyrB4ZyG+3VWMUk7gCKoYiwGDMxMwoVdrDOqYAB1XrKAWwNIiRfL6JKzPKcWy3cXYmFuGA8eref5XM0WY9ejfPhYD0uMxoEMcuiRHcB1AanEsLVKFCpsLm/PKselwGTblluHXo1VweXke2IVYjDr0SYvFwPQ4DOgQh6zWURxNkXAsLVIlh9uL7QUV2JRbhk2Hy7H1cDlqVL6Ir0mvRXbbGH9JpcehR2o0p6ZTyGFpEcG/O3FvURU25ZX5R2R5ZYqe1BFp1qNDQjjSE8KRnmhFz9RoZLeNgdmgEx2N6IJYWkTnUeVwI7/UhsOlNhwuq637c36ZDUWVdvhC/DdHqwFSosP8xXSynDrE+z8mRnAlCpInlhZREzg9XhSU2ZFfVusvtZNldri0FoUVDtjd3qBnMOq1iLEYEGMxItpiQFKkua6UOsSHo0OClSMnUhyWFlEQ+HwSHB4vbC4v7C4vHG4v7G7/n21uLxyuk5+f3GY/+bnXJ8Fs0CHMqIPFqIPZ4P8YdnJbVNjpkrIY9aKfJlGLY2kREZFscGoQERHJBkuLiIhkg6VFRESywdIiIiLZYGkREZFssLSIiEg2WFpERCQbLC0iCoi0tDS8+uqromOQwrG0iGRoxowZ0Gg0Z90OHjwoOhpRUHEdGCKZGjVqFN5777162xISEgSlIWoZHGkRyZTJZEKrVq3q3XQ6HRYtWoTevXvDbDajQ4cOmDVrFjye09cK02g0mDNnDsaOHQuLxYIuXbpg/fr1OHjwIIYMGQKr1YoBAwYgJyen7ntycnIwfvx4JCUlITw8HH379sXy5csvmK+yshK33347EhMTERkZiWHDhmHHjh1B+3mQOrC0iBRk2bJluPHGG3Hvvfdiz549mDNnDt5//308//zz9b7u2WefxU033YTt27ejc+fOmDZtGv70pz/hsccew+bNmwEAd999d93X19TUYPTo0Vi+fDm2bduGkSNHYty4ccjPzz9nDkmSMGbMGBQXF2Pp0qXYsmULsrOzceWVV6KsrCx4PwBSPomIZOfmm2+WdDqdZLVa625TpkyRBg0aJL3wwgv1vva///2vlJycXPc5AOmJJ56o+3z9+vUSAGnevHl12z7++GPJbDZfMMMll1wivfHGG3Wft2vXTnrllVckSZKkH3/8UYqMjJQcDke970lPT5fmzJnT6OdLdAqPaRHJ1NChQ/HWW2/VfW61WpGRkYFNmzbVG1l5vV44HA7YbDZYLBYAQPfu3evuT0pKAgB069at3jaHw4GqqipERkaitrYWs2bNwuLFi1FYWAiPxwO73X7ekdaWLVtQU1ODuLi4etvtdnu93Y5EjcXSIpKpUyV1Jp/Ph1mzZmHSpElnfb3ZfPpqxQaDoe7PGo3mvNt8Ph8A4JFHHsGyZcvwj3/8AxkZGQgLC8OUKVPgcrnOmc3n8yE5ORmrVq06677o6OiGPUGic2BpESlIdnY29u/ff1aZNdfatWsxY8YMTJw4EYD/GFdeXt4FcxQXF0Ov1yMtLS2gWUjdWFpECvK3v/0NY8eORWpqKq699lpotVrs3LkTu3btwnPPPdfkx83IyMDChQsxbtw4aDQaPPnkk3WjsHMZPnw4BgwYgAkTJmD27Nno1KkTCgsLsXTpUkyYMAF9+vRpchZSN84eJFKQkSNHYvHixfjhhx/Qt29fXHrppXj55ZfRrl27Zj3uK6+8gpiYGAwcOBDjxo3DyJEjkZ2dfd6v12g0WLp0Ka644grMnDkTmZmZmDp1KvLy8uqOoRE1hUaSJEl0CCIioobgSIuIiGSDpUVERLLB0iIiItlgaRERkWywtIiISDZYWkREJBssLSIikg2WFhERyQZLi4iIZIOlRUREssHSIiIi2WBpERGRbLC0iIhINlhaREQkGywtIiKSDZYWERHJBkuLiIhkg6VFRESywdIiIiLZYGkREZFssLSIiEg2WFpERCQbLC0iIpINlhYREckGS4uIiGSDpUVERLLB0iIiItlgaRERkWz8f7FLUvD2cUKGAAAAAElFTkSuQmCC\n",
      "text/plain": [
       "<Figure size 500x500 with 1 Axes>"
      ]
     },
     "metadata": {},
     "output_type": "display_data"
    }
   ],
   "source": [
    "#ATTENTION, SHOULD HAVE A ZERO AS DECIMAL/Colors inverted Generate a pie plot showing the distribution of female versus male mice using Pandas\n",
    "gender = extra_mice.groupby(['Sex'])['Sex'].count()\n",
    "gender.plot.pie(startangle=185,autopct='%1.1f%%', figsize=(5, 5))\n"
   ]
  },
  {
   "cell_type": "code",
   "execution_count": 25,
   "metadata": {
    "scrolled": true
   },
   "outputs": [
    {
     "data": {
      "text/plain": [
       "Male      958\n",
       "Female    922\n",
       "Name: Sex, dtype: int64"
      ]
     },
     "execution_count": 25,
     "metadata": {},
     "output_type": "execute_result"
    }
   ],
   "source": [
    "extra_mice[\"Sex\"].value_counts()"
   ]
  },
  {
   "cell_type": "code",
   "execution_count": 26,
   "metadata": {
    "scrolled": true
   },
   "outputs": [
    {
     "data": {
      "image/png": "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\n",
      "text/plain": [
       "<Figure size 640x480 with 1 Axes>"
      ]
     },
     "metadata": {},
     "output_type": "display_data"
    }
   ],
   "source": [
    "#ATTENTION, SHOULD HAVE A ZERO AS DECIMAL/Colors inverted  Generate a pie plot showing the distribution of female versus male mice using Pandas\n",
    "plt.pie(gender, labels=('Female', 'Male'), startangle=185, autopct='%1.1f%%')\n",
    "plt.ylabel('Sex')\n",
    "plt.tight_layout() \n",
    "plt.show()\n"
   ]
  },
  {
   "cell_type": "markdown",
   "metadata": {},
   "source": [
    "## Quartiles, Outliers and Boxplots"
   ]
  },
  {
   "cell_type": "code",
   "execution_count": 28,
   "metadata": {},
   "outputs": [],
   "source": [
    "# Calculate the final tumor volume of each mouse across four of the treatment regimens:  \n",
    "# Capomulin, Ramicane, Infubinol, and Ceftamin\n",
    "# Start by getting the last (greatest) timepoint for each mouse\n",
    "\n",
    "# Merge this group df with the original DataFrame to get the tumor volume at the last timepoint\n",
    "\n",
    "last = clean_complete_v1.groupby(\"Mouse ID\").max()[\"Timepoint\"]\n",
    "merge_last = pd.merge(last, clean_complete_v1, on=(\"Mouse ID\", \"Timepoint\"))\n",
    "\n"
   ]
  },
  {
   "cell_type": "code",
   "execution_count": 201,
   "metadata": {
    "scrolled": true
   },
   "outputs": [
    {
     "data": {
      "text/plain": [
       "[19     38.982878\n",
       " 24     38.939633\n",
       " 61     30.485985\n",
       " 64     37.074024\n",
       " 66     40.159220\n",
       " 81     47.685963\n",
       " 84     37.311846\n",
       " 86     38.125164\n",
       " 88     38.753265\n",
       " 109    41.483008\n",
       " 116    38.846876\n",
       " 122    28.430964\n",
       " 125    33.329098\n",
       " 163    46.539206\n",
       " 164    32.377357\n",
       " 170    41.581521\n",
       " 175    23.343598\n",
       " 181    40.728578\n",
       " 184    34.455298\n",
       " 193    31.023923\n",
       " 205    40.658124\n",
       " 209    39.952347\n",
       " 221    36.041047\n",
       " 227    28.484033\n",
       " 240    31.896238\n",
       " Name: Tumor Volume (mm3), dtype: float64,\n",
       " 6      38.407618\n",
       " 7      43.047543\n",
       " 10     38.810366\n",
       " 12     32.978522\n",
       " 33     38.342008\n",
       " 37     33.397653\n",
       " 45     37.311236\n",
       " 52     40.659006\n",
       " 70     29.128472\n",
       " 77     33.562402\n",
       " 78     36.374510\n",
       " 92     31.560470\n",
       " 94     36.134852\n",
       " 97     22.050126\n",
       " 120    30.564625\n",
       " 127    31.095335\n",
       " 158    45.220869\n",
       " 159    36.561652\n",
       " 167    37.225650\n",
       " 169    43.419381\n",
       " 178    30.276232\n",
       " 191    40.667713\n",
       " 218    43.166373\n",
       " 236    44.183451\n",
       " 245    30.638696\n",
       " Name: Tumor Volume (mm3), dtype: float64,\n",
       " 0      67.973419\n",
       " 1      65.525743\n",
       " 11     57.031862\n",
       " 13     66.083066\n",
       " 27     72.226731\n",
       " 31     36.321346\n",
       " 41     60.969711\n",
       " 50     62.435404\n",
       " 56     60.918767\n",
       " 79     67.289621\n",
       " 98     66.196912\n",
       " 102    62.117279\n",
       " 124    47.010364\n",
       " 130    60.165180\n",
       " 142    55.629428\n",
       " 143    45.699331\n",
       " 154    54.656549\n",
       " 171    55.650681\n",
       " 198    46.250112\n",
       " 201    54.048608\n",
       " 203    51.542431\n",
       " 212    50.005138\n",
       " 217    58.268442\n",
       " 234    67.685569\n",
       " 246    62.754451\n",
       " Name: Tumor Volume (mm3), dtype: float64,\n",
       " 3      62.999356\n",
       " 21     45.000000\n",
       " 22     56.057749\n",
       " 25     55.742829\n",
       " 58     48.722078\n",
       " 76     47.784682\n",
       " 89     61.849023\n",
       " 95     68.923185\n",
       " 107    67.748662\n",
       " 108    57.918381\n",
       " 110    46.784535\n",
       " 111    59.851956\n",
       " 114    64.299830\n",
       " 135    59.741901\n",
       " 151    61.433892\n",
       " 155    64.192341\n",
       " 185    45.000000\n",
       " 189    52.925348\n",
       " 190    45.000000\n",
       " 210    67.527482\n",
       " 224    45.000000\n",
       " 229    64.634949\n",
       " 232    61.386660\n",
       " 239    68.594745\n",
       " 241    64.729837\n",
       " Name: Tumor Volume (mm3), dtype: float64]"
      ]
     },
     "execution_count": 201,
     "metadata": {},
     "output_type": "execute_result"
    }
   ],
   "source": [
    "# Put treatments into a list for for loop (and later for plot labels)\n",
    "# Create empty list to fill with tumor vol data (for plotting)\n",
    "\n",
    "tx = [\"Capomulin\", \"Ramicane\", \"Infubinol\", \"Ceftamin\"]\n",
    "tumor_volume_data = []\n",
    "\n",
    "\n",
    "\n",
    "# Calculate the IQR and quantitatively determine if there are any potential outliers. \n",
    "for name in tx:\n",
    "    vol = merge_last.loc[merge_last[\"Drug Regimen\"]==name,'Tumor Volume (mm3)']\n",
    "    tumor_volume_data.append(vol)      \n",
    "   \n",
    "    \n",
    "#     # Locate the rows which contain mice on each drug and get the tumor volumes\n",
    "    quartiles = vol.quantile([0.25,0.5,0.75])\n",
    "    first_q = quartiles[0.25]\n",
    "    second_q = quartiles[0.5]\n",
    "    third_q = quartiles[0.75]\n",
    "    iqr = third_q - first_q\n",
    "    iqr_multiplier = iqr*1.5\n",
    "#     # Determine outliers using upper and lower bounds\n",
    "   \n",
    "    bound_lower = first_q - iqr_multiplier\n",
    "    bound_upper = third_q + iqr_multiplier\n",
    "    outliers = vol.loc[(vol < bound_lower) | (vol > bound_upper)]\n",
    "tumor_volume_data"
   ]
  },
  {
   "cell_type": "code",
   "execution_count": 61,
   "metadata": {
    "scrolled": false
   },
   "outputs": [
    {
     "data": {
      "image/png": "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\n",
      "text/plain": [
       "<Figure size 1000x600 with 1 Axes>"
      ]
     },
     "metadata": {},
     "output_type": "display_data"
    }
   ],
   "source": [
    "plot = tumor_volume_data\n",
    "fig, ax1 = plt.subplots(figsize= (10,6))\n",
    "flierprops = dict(marker='o', markerfacecolor='r', markersize=14,\n",
    "                  linestyle='none', markeredgecolor='g')\n",
    "ax1.boxplot(plot, labels=tx, flierprops=flierprops)\n",
    "\n",
    "ax1.set_ylabel(\"Final Tumor Volume (mm3)\")\n",
    "plt.show()\n"
   ]
  },
  {
   "cell_type": "markdown",
   "metadata": {},
   "source": [
    "## Line and Scatter Plots"
   ]
  },
  {
   "cell_type": "code",
   "execution_count": 212,
   "metadata": {
    "scrolled": true
   },
   "outputs": [
    {
     "data": {
      "image/png": "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\n",
      "text/plain": [
       "<Figure size 640x480 with 1 Axes>"
      ]
     },
     "metadata": {},
     "output_type": "display_data"
    }
   ],
   "source": [
    "# Generate a line plot of tumor volume vs. time point for a mouse treated with Capomulin\n",
    "\n",
    "Capomulin = extra_mice.loc[(extra_mice[\"Drug Regimen\"] == \"Capomulin\") & (extra_mice[\"Mouse ID\"] == \"l509\")] \n",
    "\n",
    "\n",
    "plt.plot(Capomulin[\"Timepoint\"],Capomulin[\"Tumor Volume (mm3)\"])\n",
    "plt.title(\"Capomulin treatment of Mouse ID I509 \")\n",
    "plt.xlabel('Timepoint (days)')\n",
    "plt.ylabel('Tumor Volume (mm3)')\n",
    "plt.show()\n"
   ]
  },
  {
   "cell_type": "code",
   "execution_count": 213,
   "metadata": {
    "scrolled": true
   },
   "outputs": [
    {
     "data": {
      "text/plain": [
       "20.16"
      ]
     },
     "execution_count": 213,
     "metadata": {},
     "output_type": "execute_result"
    }
   ],
   "source": [
    "# Generate a line plot of tumor volume vs. time point for a mouse treated with Capomulin\n",
    "math2 = (48*42)/100\n",
    "math2\n"
   ]
  },
  {
   "cell_type": "code",
   "execution_count": 34,
   "metadata": {},
   "outputs": [
    {
     "data": {
      "image/png": "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\n",
      "text/plain": [
       "<Figure size 640x480 with 1 Axes>"
      ]
     },
     "metadata": {},
     "output_type": "display_data"
    }
   ],
   "source": [
    "# Generate a scatter plot of average tumor volume vs. mouse weight for the Capomulin regimen\n",
    "Capomulin = clean_df.loc[(clean_df[\"Drug Regimen\"] == \"Capomulin\")]\n",
    "mouse_id_mean = Capomulin.groupby([\"Mouse ID\"]).mean()\n",
    "\n",
    "mouse_vol_ave = mouse_id_mean[\"Tumor Volume (mm3)\"]\n",
    "mouse_weight_ave = mouse_id_mean[\"Weight (g)\"]\n",
    "\n",
    "plt.scatter(mouse_weight_ave, mouse_vol_ave)\n",
    "plt.title(\"Mouse Weight vs Tumor Volume (mm3)\")\n",
    "plt.xlabel(\"Weight (g)\")\n",
    "plt.ylabel(\"Average Tumor Volume (mm3)\")\n",
    "plt.show()\n"
   ]
  },
  {
   "cell_type": "markdown",
   "metadata": {},
   "source": [
    "## Correlation and Regression"
   ]
  },
  {
   "cell_type": "code",
   "execution_count": 56,
   "metadata": {},
   "outputs": [
    {
     "data": {
      "text/plain": [
       "LinregressResult(slope=0.9544396890241049, intercept=21.552160532685008, rvalue=0.8419363424694721, pvalue=1.3225722434712404e-07, stderr=0.12754359033201323, intercept_stderr=2.5909876867683455)"
      ]
     },
     "execution_count": 56,
     "metadata": {},
     "output_type": "execute_result"
    }
   ],
   "source": [
    "st.linregress(mouse_id_mean[\"Weight (g)\"],mouse_id_mean[\"Tumor Volume (mm3)\"])"
   ]
  },
  {
   "cell_type": "code",
   "execution_count": 59,
   "metadata": {
    "scrolled": true
   },
   "outputs": [
    {
     "name": "stdout",
     "output_type": "stream",
     "text": [
      "The correlation between mouse weight and the average tumor volume 0.84.\n"
     ]
    },
    {
     "data": {
      "image/png": "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\n",
      "text/plain": [
       "<Figure size 640x480 with 1 Axes>"
      ]
     },
     "metadata": {},
     "output_type": "display_data"
    }
   ],
   "source": [
    "# Calculate the correlation coefficient and linear regression model \n",
    "# for mouse weight and average tumor volume for the Capomulin regimen\n",
    "correlation = st.pearsonr(mouse_weight_ave,mouse_vol_ave)\n",
    "print(f\"The correlation between mouse weight and the average tumor volume {round(correlation[0],2)}.\")\n",
    "# for mouse weight and average tumor volume for the Capomulin regimen\n",
    "mouse_vol_ave = mouse_id_mean[\"Tumor Volume (mm3)\"]\n",
    "mouse_weight_ave = mouse_id_mean[\"Weight (g)\"]\n",
    "\n",
    "(slope, intercept, rvalue, pvalue, stderr) = st.linregress(mouse_weight_ave, mouse_vol_ave)\n",
    "regress_values = mouse_weight_ave * slope + intercept\n",
    "\n",
    "plt.scatter(mouse_weight_ave,mouse_vol_ave)\n",
    "plt.plot(mouse_weight_ave,regress_values,\"r-\")\n",
    "plt.xlabel(\"Weight (g)\")\n",
    "plt.ylabel(\"Average Tumor Volume (mm3)\")\n",
    "plt.show()\n"
   ]
  },
  {
   "cell_type": "markdown",
   "metadata": {},
   "source": [
    "# Pymaceuticals Inc.\n",
    "---\n",
    "\n",
    "### Analysis\n",
    "\n",
    "- Add your analysis here.\n",
    " "
   ]
  },
  {
   "cell_type": "code",
   "execution_count": 1,
   "metadata": {},
   "outputs": [
    {
     "data": {
      "text/html": [
       "<div>\n",
       "<style scoped>\n",
       "    .dataframe tbody tr th:only-of-type {\n",
       "        vertical-align: middle;\n",
       "    }\n",
       "\n",
       "    .dataframe tbody tr th {\n",
       "        vertical-align: top;\n",
       "    }\n",
       "\n",
       "    .dataframe thead th {\n",
       "        text-align: right;\n",
       "    }\n",
       "</style>\n",
       "<table border=\"1\" class=\"dataframe\">\n",
       "  <thead>\n",
       "    <tr style=\"text-align: right;\">\n",
       "      <th></th>\n",
       "      <th>Mouse ID</th>\n",
       "      <th>Timepoint</th>\n",
       "      <th>Tumor Volume (mm3)</th>\n",
       "      <th>Metastatic Sites</th>\n",
       "      <th>Drug Regimen</th>\n",
       "      <th>Sex</th>\n",
       "      <th>Age_months</th>\n",
       "      <th>Weight (g)</th>\n",
       "    </tr>\n",
       "  </thead>\n",
       "  <tbody>\n",
       "    <tr>\n",
       "      <th>0</th>\n",
       "      <td>b128</td>\n",
       "      <td>0</td>\n",
       "      <td>45.0</td>\n",
       "      <td>0</td>\n",
       "      <td>Capomulin</td>\n",
       "      <td>Female</td>\n",
       "      <td>9</td>\n",
       "      <td>22</td>\n",
       "    </tr>\n",
       "    <tr>\n",
       "      <th>1</th>\n",
       "      <td>f932</td>\n",
       "      <td>0</td>\n",
       "      <td>45.0</td>\n",
       "      <td>0</td>\n",
       "      <td>Ketapril</td>\n",
       "      <td>Male</td>\n",
       "      <td>15</td>\n",
       "      <td>29</td>\n",
       "    </tr>\n",
       "    <tr>\n",
       "      <th>2</th>\n",
       "      <td>g107</td>\n",
       "      <td>0</td>\n",
       "      <td>45.0</td>\n",
       "      <td>0</td>\n",
       "      <td>Ketapril</td>\n",
       "      <td>Female</td>\n",
       "      <td>2</td>\n",
       "      <td>29</td>\n",
       "    </tr>\n",
       "    <tr>\n",
       "      <th>3</th>\n",
       "      <td>a457</td>\n",
       "      <td>0</td>\n",
       "      <td>45.0</td>\n",
       "      <td>0</td>\n",
       "      <td>Ketapril</td>\n",
       "      <td>Female</td>\n",
       "      <td>11</td>\n",
       "      <td>30</td>\n",
       "    </tr>\n",
       "    <tr>\n",
       "      <th>4</th>\n",
       "      <td>c819</td>\n",
       "      <td>0</td>\n",
       "      <td>45.0</td>\n",
       "      <td>0</td>\n",
       "      <td>Ketapril</td>\n",
       "      <td>Male</td>\n",
       "      <td>21</td>\n",
       "      <td>25</td>\n",
       "    </tr>\n",
       "  </tbody>\n",
       "</table>\n",
       "</div>"
      ],
      "text/plain": [
       "  Mouse ID  Timepoint  Tumor Volume (mm3)  Metastatic Sites Drug Regimen  \\\n",
       "0     b128          0                45.0                 0    Capomulin   \n",
       "1     f932          0                45.0                 0     Ketapril   \n",
       "2     g107          0                45.0                 0     Ketapril   \n",
       "3     a457          0                45.0                 0     Ketapril   \n",
       "4     c819          0                45.0                 0     Ketapril   \n",
       "\n",
       "      Sex  Age_months  Weight (g)  \n",
       "0  Female           9          22  \n",
       "1    Male          15          29  \n",
       "2  Female           2          29  \n",
       "3  Female          11          30  \n",
       "4    Male          21          25  "
      ]
     },
     "execution_count": 1,
     "metadata": {},
     "output_type": "execute_result"
    }
   ],
   "source": [
    "# Dependencies and Setup\n",
    "import matplotlib.pyplot as plt\n",
    "import pandas as pd\n",
    "import scipy.stats as st\n",
    "\n",
    "# Study data files\n",
    "mouse_metadata_path = \"data/Mouse_metadata.csv\"\n",
    "study_results_path = \"data/Study_results.csv\"\n",
    "\n",
    "# Read the mouse data and the study results\n",
    "mouse_metadata = pd.read_csv(mouse_metadata_path)\n",
    "study_results = pd.read_csv(study_results_path)\n",
    "\n",
    "# Combine the data into a single dataset\n",
    "\n",
    "# Display the data table for preview\n"
   ]
  },
  {
   "cell_type": "code",
   "execution_count": 2,
   "metadata": {},
   "outputs": [
    {
     "data": {
      "text/plain": [
       "249"
      ]
     },
     "execution_count": 2,
     "metadata": {},
     "output_type": "execute_result"
    }
   ],
   "source": [
    "# Checking the number of mice.\n"
   ]
  },
  {
   "cell_type": "code",
   "execution_count": 3,
   "metadata": {},
   "outputs": [
    {
     "data": {
      "text/plain": [
       "array(['g989'], dtype=object)"
      ]
     },
     "execution_count": 3,
     "metadata": {},
     "output_type": "execute_result"
    }
   ],
   "source": [
    "# Getting the duplicate mice by ID number that shows up for Mouse ID and Timepoint. \n"
   ]
  },
  {
   "cell_type": "code",
   "execution_count": 4,
   "metadata": {},
   "outputs": [
    {
     "data": {
      "text/html": [
       "<div>\n",
       "<style scoped>\n",
       "    .dataframe tbody tr th:only-of-type {\n",
       "        vertical-align: middle;\n",
       "    }\n",
       "\n",
       "    .dataframe tbody tr th {\n",
       "        vertical-align: top;\n",
       "    }\n",
       "\n",
       "    .dataframe thead th {\n",
       "        text-align: right;\n",
       "    }\n",
       "</style>\n",
       "<table border=\"1\" class=\"dataframe\">\n",
       "  <thead>\n",
       "    <tr style=\"text-align: right;\">\n",
       "      <th></th>\n",
       "      <th>Mouse ID</th>\n",
       "      <th>Timepoint</th>\n",
       "      <th>Tumor Volume (mm3)</th>\n",
       "      <th>Metastatic Sites</th>\n",
       "      <th>Drug Regimen</th>\n",
       "      <th>Sex</th>\n",
       "      <th>Age_months</th>\n",
       "      <th>Weight (g)</th>\n",
       "    </tr>\n",
       "  </thead>\n",
       "  <tbody>\n",
       "    <tr>\n",
       "      <th>107</th>\n",
       "      <td>g989</td>\n",
       "      <td>0</td>\n",
       "      <td>45.000000</td>\n",
       "      <td>0</td>\n",
       "      <td>Propriva</td>\n",
       "      <td>Female</td>\n",
       "      <td>21</td>\n",
       "      <td>26</td>\n",
       "    </tr>\n",
       "    <tr>\n",
       "      <th>137</th>\n",
       "      <td>g989</td>\n",
       "      <td>0</td>\n",
       "      <td>45.000000</td>\n",
       "      <td>0</td>\n",
       "      <td>Propriva</td>\n",
       "      <td>Female</td>\n",
       "      <td>21</td>\n",
       "      <td>26</td>\n",
       "    </tr>\n",
       "    <tr>\n",
       "      <th>329</th>\n",
       "      <td>g989</td>\n",
       "      <td>5</td>\n",
       "      <td>48.786801</td>\n",
       "      <td>0</td>\n",
       "      <td>Propriva</td>\n",
       "      <td>Female</td>\n",
       "      <td>21</td>\n",
       "      <td>26</td>\n",
       "    </tr>\n",
       "    <tr>\n",
       "      <th>360</th>\n",
       "      <td>g989</td>\n",
       "      <td>5</td>\n",
       "      <td>47.570392</td>\n",
       "      <td>0</td>\n",
       "      <td>Propriva</td>\n",
       "      <td>Female</td>\n",
       "      <td>21</td>\n",
       "      <td>26</td>\n",
       "    </tr>\n",
       "    <tr>\n",
       "      <th>620</th>\n",
       "      <td>g989</td>\n",
       "      <td>10</td>\n",
       "      <td>51.745156</td>\n",
       "      <td>0</td>\n",
       "      <td>Propriva</td>\n",
       "      <td>Female</td>\n",
       "      <td>21</td>\n",
       "      <td>26</td>\n",
       "    </tr>\n",
       "    <tr>\n",
       "      <th>681</th>\n",
       "      <td>g989</td>\n",
       "      <td>10</td>\n",
       "      <td>49.880528</td>\n",
       "      <td>0</td>\n",
       "      <td>Propriva</td>\n",
       "      <td>Female</td>\n",
       "      <td>21</td>\n",
       "      <td>26</td>\n",
       "    </tr>\n",
       "    <tr>\n",
       "      <th>815</th>\n",
       "      <td>g989</td>\n",
       "      <td>15</td>\n",
       "      <td>51.325852</td>\n",
       "      <td>1</td>\n",
       "      <td>Propriva</td>\n",
       "      <td>Female</td>\n",
       "      <td>21</td>\n",
       "      <td>26</td>\n",
       "    </tr>\n",
       "    <tr>\n",
       "      <th>869</th>\n",
       "      <td>g989</td>\n",
       "      <td>15</td>\n",
       "      <td>53.442020</td>\n",
       "      <td>0</td>\n",
       "      <td>Propriva</td>\n",
       "      <td>Female</td>\n",
       "      <td>21</td>\n",
       "      <td>26</td>\n",
       "    </tr>\n",
       "    <tr>\n",
       "      <th>950</th>\n",
       "      <td>g989</td>\n",
       "      <td>20</td>\n",
       "      <td>55.326122</td>\n",
       "      <td>1</td>\n",
       "      <td>Propriva</td>\n",
       "      <td>Female</td>\n",
       "      <td>21</td>\n",
       "      <td>26</td>\n",
       "    </tr>\n",
       "    <tr>\n",
       "      <th>1111</th>\n",
       "      <td>g989</td>\n",
       "      <td>20</td>\n",
       "      <td>54.657650</td>\n",
       "      <td>1</td>\n",
       "      <td>Propriva</td>\n",
       "      <td>Female</td>\n",
       "      <td>21</td>\n",
       "      <td>26</td>\n",
       "    </tr>\n",
       "    <tr>\n",
       "      <th>1195</th>\n",
       "      <td>g989</td>\n",
       "      <td>25</td>\n",
       "      <td>56.045564</td>\n",
       "      <td>1</td>\n",
       "      <td>Propriva</td>\n",
       "      <td>Female</td>\n",
       "      <td>21</td>\n",
       "      <td>26</td>\n",
       "    </tr>\n",
       "    <tr>\n",
       "      <th>1380</th>\n",
       "      <td>g989</td>\n",
       "      <td>30</td>\n",
       "      <td>59.082294</td>\n",
       "      <td>1</td>\n",
       "      <td>Propriva</td>\n",
       "      <td>Female</td>\n",
       "      <td>21</td>\n",
       "      <td>26</td>\n",
       "    </tr>\n",
       "    <tr>\n",
       "      <th>1592</th>\n",
       "      <td>g989</td>\n",
       "      <td>35</td>\n",
       "      <td>62.570880</td>\n",
       "      <td>2</td>\n",
       "      <td>Propriva</td>\n",
       "      <td>Female</td>\n",
       "      <td>21</td>\n",
       "      <td>26</td>\n",
       "    </tr>\n",
       "  </tbody>\n",
       "</table>\n",
       "</div>"
      ],
      "text/plain": [
       "     Mouse ID  Timepoint  Tumor Volume (mm3)  Metastatic Sites Drug Regimen  \\\n",
       "107      g989          0           45.000000                 0     Propriva   \n",
       "137      g989          0           45.000000                 0     Propriva   \n",
       "329      g989          5           48.786801                 0     Propriva   \n",
       "360      g989          5           47.570392                 0     Propriva   \n",
       "620      g989         10           51.745156                 0     Propriva   \n",
       "681      g989         10           49.880528                 0     Propriva   \n",
       "815      g989         15           51.325852                 1     Propriva   \n",
       "869      g989         15           53.442020                 0     Propriva   \n",
       "950      g989         20           55.326122                 1     Propriva   \n",
       "1111     g989         20           54.657650                 1     Propriva   \n",
       "1195     g989         25           56.045564                 1     Propriva   \n",
       "1380     g989         30           59.082294                 1     Propriva   \n",
       "1592     g989         35           62.570880                 2     Propriva   \n",
       "\n",
       "         Sex  Age_months  Weight (g)  \n",
       "107   Female          21          26  \n",
       "137   Female          21          26  \n",
       "329   Female          21          26  \n",
       "360   Female          21          26  \n",
       "620   Female          21          26  \n",
       "681   Female          21          26  \n",
       "815   Female          21          26  \n",
       "869   Female          21          26  \n",
       "950   Female          21          26  \n",
       "1111  Female          21          26  \n",
       "1195  Female          21          26  \n",
       "1380  Female          21          26  \n",
       "1592  Female          21          26  "
      ]
     },
     "execution_count": 4,
     "metadata": {},
     "output_type": "execute_result"
    }
   ],
   "source": [
    "# Optional: Get all the data for the duplicate mouse ID. \n"
   ]
  },
  {
   "cell_type": "code",
   "execution_count": 5,
   "metadata": {},
   "outputs": [
    {
     "data": {
      "text/html": [
       "<div>\n",
       "<style scoped>\n",
       "    .dataframe tbody tr th:only-of-type {\n",
       "        vertical-align: middle;\n",
       "    }\n",
       "\n",
       "    .dataframe tbody tr th {\n",
       "        vertical-align: top;\n",
       "    }\n",
       "\n",
       "    .dataframe thead th {\n",
       "        text-align: right;\n",
       "    }\n",
       "</style>\n",
       "<table border=\"1\" class=\"dataframe\">\n",
       "  <thead>\n",
       "    <tr style=\"text-align: right;\">\n",
       "      <th></th>\n",
       "      <th>Mouse ID</th>\n",
       "      <th>Timepoint</th>\n",
       "      <th>Tumor Volume (mm3)</th>\n",
       "      <th>Metastatic Sites</th>\n",
       "      <th>Drug Regimen</th>\n",
       "      <th>Sex</th>\n",
       "      <th>Age_months</th>\n",
       "      <th>Weight (g)</th>\n",
       "    </tr>\n",
       "  </thead>\n",
       "  <tbody>\n",
       "    <tr>\n",
       "      <th>0</th>\n",
       "      <td>b128</td>\n",
       "      <td>0</td>\n",
       "      <td>45.0</td>\n",
       "      <td>0</td>\n",
       "      <td>Capomulin</td>\n",
       "      <td>Female</td>\n",
       "      <td>9</td>\n",
       "      <td>22</td>\n",
       "    </tr>\n",
       "    <tr>\n",
       "      <th>1</th>\n",
       "      <td>f932</td>\n",
       "      <td>0</td>\n",
       "      <td>45.0</td>\n",
       "      <td>0</td>\n",
       "      <td>Ketapril</td>\n",
       "      <td>Male</td>\n",
       "      <td>15</td>\n",
       "      <td>29</td>\n",
       "    </tr>\n",
       "    <tr>\n",
       "      <th>2</th>\n",
       "      <td>g107</td>\n",
       "      <td>0</td>\n",
       "      <td>45.0</td>\n",
       "      <td>0</td>\n",
       "      <td>Ketapril</td>\n",
       "      <td>Female</td>\n",
       "      <td>2</td>\n",
       "      <td>29</td>\n",
       "    </tr>\n",
       "    <tr>\n",
       "      <th>3</th>\n",
       "      <td>a457</td>\n",
       "      <td>0</td>\n",
       "      <td>45.0</td>\n",
       "      <td>0</td>\n",
       "      <td>Ketapril</td>\n",
       "      <td>Female</td>\n",
       "      <td>11</td>\n",
       "      <td>30</td>\n",
       "    </tr>\n",
       "    <tr>\n",
       "      <th>4</th>\n",
       "      <td>c819</td>\n",
       "      <td>0</td>\n",
       "      <td>45.0</td>\n",
       "      <td>0</td>\n",
       "      <td>Ketapril</td>\n",
       "      <td>Male</td>\n",
       "      <td>21</td>\n",
       "      <td>25</td>\n",
       "    </tr>\n",
       "  </tbody>\n",
       "</table>\n",
       "</div>"
      ],
      "text/plain": [
       "  Mouse ID  Timepoint  Tumor Volume (mm3)  Metastatic Sites Drug Regimen  \\\n",
       "0     b128          0                45.0                 0    Capomulin   \n",
       "1     f932          0                45.0                 0     Ketapril   \n",
       "2     g107          0                45.0                 0     Ketapril   \n",
       "3     a457          0                45.0                 0     Ketapril   \n",
       "4     c819          0                45.0                 0     Ketapril   \n",
       "\n",
       "      Sex  Age_months  Weight (g)  \n",
       "0  Female           9          22  \n",
       "1    Male          15          29  \n",
       "2  Female           2          29  \n",
       "3  Female          11          30  \n",
       "4    Male          21          25  "
      ]
     },
     "execution_count": 5,
     "metadata": {},
     "output_type": "execute_result"
    }
   ],
   "source": [
    "# Create a clean DataFrame by dropping the duplicate mouse by its ID.\n"
   ]
  },
  {
   "cell_type": "code",
   "execution_count": 6,
   "metadata": {},
   "outputs": [
    {
     "data": {
      "text/plain": [
       "248"
      ]
     },
     "execution_count": 6,
     "metadata": {},
     "output_type": "execute_result"
    }
   ],
   "source": [
    "# Checking the number of mice in the clean DataFrame.\n"
   ]
  },
  {
   "cell_type": "markdown",
   "metadata": {},
   "source": [
    "## Summary Statistics"
   ]
  },
  {
   "cell_type": "code",
   "execution_count": 7,
   "metadata": {},
   "outputs": [
    {
     "data": {
      "text/html": [
       "<div>\n",
       "<style scoped>\n",
       "    .dataframe tbody tr th:only-of-type {\n",
       "        vertical-align: middle;\n",
       "    }\n",
       "\n",
       "    .dataframe tbody tr th {\n",
       "        vertical-align: top;\n",
       "    }\n",
       "\n",
       "    .dataframe thead th {\n",
       "        text-align: right;\n",
       "    }\n",
       "</style>\n",
       "<table border=\"1\" class=\"dataframe\">\n",
       "  <thead>\n",
       "    <tr style=\"text-align: right;\">\n",
       "      <th></th>\n",
       "      <th>Mean Tumor Volume</th>\n",
       "      <th>Median Tumor Volume</th>\n",
       "      <th>Tumor Volume Variance</th>\n",
       "      <th>Tumor Volume Std. Dev.</th>\n",
       "      <th>Tumor Volume Std. Err.</th>\n",
       "    </tr>\n",
       "    <tr>\n",
       "      <th>Drug Regimen</th>\n",
       "      <th></th>\n",
       "      <th></th>\n",
       "      <th></th>\n",
       "      <th></th>\n",
       "      <th></th>\n",
       "    </tr>\n",
       "  </thead>\n",
       "  <tbody>\n",
       "    <tr>\n",
       "      <th>Capomulin</th>\n",
       "      <td>40.675741</td>\n",
       "      <td>41.557809</td>\n",
       "      <td>24.947764</td>\n",
       "      <td>4.994774</td>\n",
       "      <td>0.329346</td>\n",
       "    </tr>\n",
       "    <tr>\n",
       "      <th>Ceftamin</th>\n",
       "      <td>52.591172</td>\n",
       "      <td>51.776157</td>\n",
       "      <td>39.290177</td>\n",
       "      <td>6.268188</td>\n",
       "      <td>0.469821</td>\n",
       "    </tr>\n",
       "    <tr>\n",
       "      <th>Infubinol</th>\n",
       "      <td>52.884795</td>\n",
       "      <td>51.820584</td>\n",
       "      <td>43.128684</td>\n",
       "      <td>6.567243</td>\n",
       "      <td>0.492236</td>\n",
       "    </tr>\n",
       "    <tr>\n",
       "      <th>Ketapril</th>\n",
       "      <td>55.235638</td>\n",
       "      <td>53.698743</td>\n",
       "      <td>68.553577</td>\n",
       "      <td>8.279709</td>\n",
       "      <td>0.603860</td>\n",
       "    </tr>\n",
       "    <tr>\n",
       "      <th>Naftisol</th>\n",
       "      <td>54.331565</td>\n",
       "      <td>52.509285</td>\n",
       "      <td>66.173479</td>\n",
       "      <td>8.134708</td>\n",
       "      <td>0.596466</td>\n",
       "    </tr>\n",
       "    <tr>\n",
       "      <th>Placebo</th>\n",
       "      <td>54.033581</td>\n",
       "      <td>52.288934</td>\n",
       "      <td>61.168083</td>\n",
       "      <td>7.821003</td>\n",
       "      <td>0.581331</td>\n",
       "    </tr>\n",
       "    <tr>\n",
       "      <th>Propriva</th>\n",
       "      <td>52.320930</td>\n",
       "      <td>50.446266</td>\n",
       "      <td>43.852013</td>\n",
       "      <td>6.622085</td>\n",
       "      <td>0.544332</td>\n",
       "    </tr>\n",
       "    <tr>\n",
       "      <th>Ramicane</th>\n",
       "      <td>40.216745</td>\n",
       "      <td>40.673236</td>\n",
       "      <td>23.486704</td>\n",
       "      <td>4.846308</td>\n",
       "      <td>0.320955</td>\n",
       "    </tr>\n",
       "    <tr>\n",
       "      <th>Stelasyn</th>\n",
       "      <td>54.233149</td>\n",
       "      <td>52.431737</td>\n",
       "      <td>59.450562</td>\n",
       "      <td>7.710419</td>\n",
       "      <td>0.573111</td>\n",
       "    </tr>\n",
       "    <tr>\n",
       "      <th>Zoniferol</th>\n",
       "      <td>53.236507</td>\n",
       "      <td>51.818479</td>\n",
       "      <td>48.533355</td>\n",
       "      <td>6.966589</td>\n",
       "      <td>0.516398</td>\n",
       "    </tr>\n",
       "  </tbody>\n",
       "</table>\n",
       "</div>"
      ],
      "text/plain": [
       "              Mean Tumor Volume  Median Tumor Volume  Tumor Volume Variance  \\\n",
       "Drug Regimen                                                                  \n",
       "Capomulin             40.675741            41.557809              24.947764   \n",
       "Ceftamin              52.591172            51.776157              39.290177   \n",
       "Infubinol             52.884795            51.820584              43.128684   \n",
       "Ketapril              55.235638            53.698743              68.553577   \n",
       "Naftisol              54.331565            52.509285              66.173479   \n",
       "Placebo               54.033581            52.288934              61.168083   \n",
       "Propriva              52.320930            50.446266              43.852013   \n",
       "Ramicane              40.216745            40.673236              23.486704   \n",
       "Stelasyn              54.233149            52.431737              59.450562   \n",
       "Zoniferol             53.236507            51.818479              48.533355   \n",
       "\n",
       "              Tumor Volume Std. Dev.  Tumor Volume Std. Err.  \n",
       "Drug Regimen                                                  \n",
       "Capomulin                   4.994774                0.329346  \n",
       "Ceftamin                    6.268188                0.469821  \n",
       "Infubinol                   6.567243                0.492236  \n",
       "Ketapril                    8.279709                0.603860  \n",
       "Naftisol                    8.134708                0.596466  \n",
       "Placebo                     7.821003                0.581331  \n",
       "Propriva                    6.622085                0.544332  \n",
       "Ramicane                    4.846308                0.320955  \n",
       "Stelasyn                    7.710419                0.573111  \n",
       "Zoniferol                   6.966589                0.516398  "
      ]
     },
     "execution_count": 7,
     "metadata": {},
     "output_type": "execute_result"
    }
   ],
   "source": [
    "# Generate a summary statistics table of mean, median, variance, standard deviation, and SEM of the tumor volume for each regimen\n",
    "\n",
    "# Use groupby and summary statistical methods to calculate the following properties of each drug regimen: \n",
    "# mean, median, variance, standard deviation, and SEM of the tumor volume. \n",
    "# Assemble the resulting series into a single summary DataFrame.\n",
    "\n"
   ]
  },
  {
   "cell_type": "code",
   "execution_count": 8,
   "metadata": {},
   "outputs": [
    {
     "data": {
      "text/html": [
       "<div>\n",
       "<style scoped>\n",
       "    .dataframe tbody tr th:only-of-type {\n",
       "        vertical-align: middle;\n",
       "    }\n",
       "\n",
       "    .dataframe tbody tr th {\n",
       "        vertical-align: top;\n",
       "    }\n",
       "\n",
       "    .dataframe thead tr th {\n",
       "        text-align: left;\n",
       "    }\n",
       "\n",
       "    .dataframe thead tr:last-of-type th {\n",
       "        text-align: right;\n",
       "    }\n",
       "</style>\n",
       "<table border=\"1\" class=\"dataframe\">\n",
       "  <thead>\n",
       "    <tr>\n",
       "      <th></th>\n",
       "      <th colspan=\"5\" halign=\"left\">Tumor Volume (mm3)</th>\n",
       "    </tr>\n",
       "    <tr>\n",
       "      <th></th>\n",
       "      <th>mean</th>\n",
       "      <th>median</th>\n",
       "      <th>var</th>\n",
       "      <th>std</th>\n",
       "      <th>sem</th>\n",
       "    </tr>\n",
       "    <tr>\n",
       "      <th>Drug Regimen</th>\n",
       "      <th></th>\n",
       "      <th></th>\n",
       "      <th></th>\n",
       "      <th></th>\n",
       "      <th></th>\n",
       "    </tr>\n",
       "  </thead>\n",
       "  <tbody>\n",
       "    <tr>\n",
       "      <th>Capomulin</th>\n",
       "      <td>40.675741</td>\n",
       "      <td>41.557809</td>\n",
       "      <td>24.947764</td>\n",
       "      <td>4.994774</td>\n",
       "      <td>0.329346</td>\n",
       "    </tr>\n",
       "    <tr>\n",
       "      <th>Ceftamin</th>\n",
       "      <td>52.591172</td>\n",
       "      <td>51.776157</td>\n",
       "      <td>39.290177</td>\n",
       "      <td>6.268188</td>\n",
       "      <td>0.469821</td>\n",
       "    </tr>\n",
       "    <tr>\n",
       "      <th>Infubinol</th>\n",
       "      <td>52.884795</td>\n",
       "      <td>51.820584</td>\n",
       "      <td>43.128684</td>\n",
       "      <td>6.567243</td>\n",
       "      <td>0.492236</td>\n",
       "    </tr>\n",
       "    <tr>\n",
       "      <th>Ketapril</th>\n",
       "      <td>55.235638</td>\n",
       "      <td>53.698743</td>\n",
       "      <td>68.553577</td>\n",
       "      <td>8.279709</td>\n",
       "      <td>0.603860</td>\n",
       "    </tr>\n",
       "    <tr>\n",
       "      <th>Naftisol</th>\n",
       "      <td>54.331565</td>\n",
       "      <td>52.509285</td>\n",
       "      <td>66.173479</td>\n",
       "      <td>8.134708</td>\n",
       "      <td>0.596466</td>\n",
       "    </tr>\n",
       "    <tr>\n",
       "      <th>Placebo</th>\n",
       "      <td>54.033581</td>\n",
       "      <td>52.288934</td>\n",
       "      <td>61.168083</td>\n",
       "      <td>7.821003</td>\n",
       "      <td>0.581331</td>\n",
       "    </tr>\n",
       "    <tr>\n",
       "      <th>Propriva</th>\n",
       "      <td>52.320930</td>\n",
       "      <td>50.446266</td>\n",
       "      <td>43.852013</td>\n",
       "      <td>6.622085</td>\n",
       "      <td>0.544332</td>\n",
       "    </tr>\n",
       "    <tr>\n",
       "      <th>Ramicane</th>\n",
       "      <td>40.216745</td>\n",
       "      <td>40.673236</td>\n",
       "      <td>23.486704</td>\n",
       "      <td>4.846308</td>\n",
       "      <td>0.320955</td>\n",
       "    </tr>\n",
       "    <tr>\n",
       "      <th>Stelasyn</th>\n",
       "      <td>54.233149</td>\n",
       "      <td>52.431737</td>\n",
       "      <td>59.450562</td>\n",
       "      <td>7.710419</td>\n",
       "      <td>0.573111</td>\n",
       "    </tr>\n",
       "    <tr>\n",
       "      <th>Zoniferol</th>\n",
       "      <td>53.236507</td>\n",
       "      <td>51.818479</td>\n",
       "      <td>48.533355</td>\n",
       "      <td>6.966589</td>\n",
       "      <td>0.516398</td>\n",
       "    </tr>\n",
       "  </tbody>\n",
       "</table>\n",
       "</div>"
      ],
      "text/plain": [
       "             Tumor Volume (mm3)                                          \n",
       "                           mean     median        var       std       sem\n",
       "Drug Regimen                                                             \n",
       "Capomulin             40.675741  41.557809  24.947764  4.994774  0.329346\n",
       "Ceftamin              52.591172  51.776157  39.290177  6.268188  0.469821\n",
       "Infubinol             52.884795  51.820584  43.128684  6.567243  0.492236\n",
       "Ketapril              55.235638  53.698743  68.553577  8.279709  0.603860\n",
       "Naftisol              54.331565  52.509285  66.173479  8.134708  0.596466\n",
       "Placebo               54.033581  52.288934  61.168083  7.821003  0.581331\n",
       "Propriva              52.320930  50.446266  43.852013  6.622085  0.544332\n",
       "Ramicane              40.216745  40.673236  23.486704  4.846308  0.320955\n",
       "Stelasyn              54.233149  52.431737  59.450562  7.710419  0.573111\n",
       "Zoniferol             53.236507  51.818479  48.533355  6.966589  0.516398"
      ]
     },
     "execution_count": 8,
     "metadata": {},
     "output_type": "execute_result"
    }
   ],
   "source": [
    "# Generate a summary statistics table of mean, median, variance, standard deviation, \n",
    "# and SEM of the tumor volume for each regimen\n",
    "\n",
    "# Using the aggregation method, produce the same summary statistics in a single line.\n"
   ]
  },
  {
   "cell_type": "markdown",
   "metadata": {},
   "source": [
    "## Bar and Pie Charts"
   ]
  },
  {
   "cell_type": "code",
   "execution_count": 9,
   "metadata": {},
   "outputs": [
    {
     "data": {
      "image/png": "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\n",
      "text/plain": [
       "<Figure size 432x288 with 1 Axes>"
      ]
     },
     "metadata": {
      "needs_background": "light"
     },
     "output_type": "display_data"
    }
   ],
   "source": [
    "# Generate a bar plot showing the total number of timepoints for all mice tested for each drug regimen using Pandas.\n",
    "\n"
   ]
  },
  {
   "cell_type": "code",
   "execution_count": 10,
   "metadata": {},
   "outputs": [
    {
     "data": {
      "image/png": "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\n",
      "text/plain": [
       "<Figure size 432x288 with 1 Axes>"
      ]
     },
     "metadata": {
      "needs_background": "light"
     },
     "output_type": "display_data"
    }
   ],
   "source": [
    "# Generate a bar plot showing the total number of timepoints for all mice tested for each drug regimen using pyplot.\n",
    "\n"
   ]
  },
  {
   "cell_type": "code",
   "execution_count": 11,
   "metadata": {},
   "outputs": [
    {
     "data": {
      "image/png": "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\n",
      "text/plain": [
       "<Figure size 432x288 with 1 Axes>"
      ]
     },
     "metadata": {},
     "output_type": "display_data"
    }
   ],
   "source": [
    "# Generate a pie plot showing the distribution of female versus male mice using Pandas\n",
    "\n"
   ]
  },
  {
   "cell_type": "code",
   "execution_count": 12,
   "metadata": {},
   "outputs": [
    {
     "data": {
      "image/png": "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\n",
      "text/plain": [
       "<Figure size 432x288 with 1 Axes>"
      ]
     },
     "metadata": {},
     "output_type": "display_data"
    }
   ],
   "source": [
    "# Generate a pie plot showing the distribution of female versus male mice using pyplot\n",
    "\n"
   ]
  },
  {
   "cell_type": "markdown",
   "metadata": {},
   "source": [
    "## Quartiles, Outliers and Boxplots"
   ]
  },
  {
   "cell_type": "code",
   "execution_count": 13,
   "metadata": {},
   "outputs": [],
   "source": [
    "# Calculate the final tumor volume of each mouse across four of the treatment regimens:  \n",
    "# Capomulin, Ramicane, Infubinol, and Ceftamin\n",
    "\n",
    "# Start by getting the last (greatest) timepoint for each mouse\n",
    "\n",
    "\n",
    "# Merge this group df with the original DataFrame to get the tumor volume at the last timepoint\n"
   ]
  },
  {
   "cell_type": "code",
   "execution_count": 14,
   "metadata": {},
   "outputs": [
    {
     "name": "stdout",
     "output_type": "stream",
     "text": [
      "Capomulin's potential outliers: Series([], Name: Tumor Volume (mm3), dtype: float64)\n",
      "Ramicane's potential outliers: Series([], Name: Tumor Volume (mm3), dtype: float64)\n",
      "Infubinol's potential outliers: 31    36.321346\n",
      "Name: Tumor Volume (mm3), dtype: float64\n",
      "Ceftamin's potential outliers: Series([], Name: Tumor Volume (mm3), dtype: float64)\n"
     ]
    }
   ],
   "source": [
    "# Put treatments into a list for for loop (and later for plot labels)\n",
    "\n",
    "\n",
    "# Create empty list to fill with tumor vol data (for plotting)\n",
    "\n",
    "\n",
    "# Calculate the IQR and quantitatively determine if there are any potential outliers. \n",
    "\n",
    "    \n",
    "    # Locate the rows which contain mice on each drug and get the tumor volumes\n",
    "    \n",
    "    \n",
    "    # add subset \n",
    "    \n",
    "    \n",
    "    # Determine outliers using upper and lower bounds\n",
    "    "
   ]
  },
  {
   "cell_type": "code",
   "execution_count": 15,
   "metadata": {},
   "outputs": [
    {
     "data": {
      "image/png": "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\n",
      "text/plain": [
       "<Figure size 432x288 with 1 Axes>"
      ]
     },
     "metadata": {
      "needs_background": "light"
     },
     "output_type": "display_data"
    }
   ],
   "source": [
    "# Generate a box plot that shows the distrubution of the tumor volume for each treatment group.\n",
    "\n"
   ]
  },
  {
   "cell_type": "markdown",
   "metadata": {},
   "source": [
    "## Line and Scatter Plots"
   ]
  },
  {
   "cell_type": "code",
   "execution_count": 16,
   "metadata": {},
   "outputs": [
    {
     "data": {
      "image/png": "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\n",
      "text/plain": [
       "<Figure size 432x288 with 1 Axes>"
      ]
     },
     "metadata": {
      "needs_background": "light"
     },
     "output_type": "display_data"
    }
   ],
   "source": [
    "# Generate a line plot of tumor volume vs. time point for a mouse treated with Capomulin\n",
    "\n"
   ]
  },
  {
   "cell_type": "code",
   "execution_count": 17,
   "metadata": {},
   "outputs": [
    {
     "data": {
      "image/png": "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\n",
      "text/plain": [
       "<Figure size 432x288 with 1 Axes>"
      ]
     },
     "metadata": {
      "needs_background": "light"
     },
     "output_type": "display_data"
    }
   ],
   "source": [
    "# Generate a scatter plot of average tumor volume vs. mouse weight for the Capomulin regimen\n",
    "\n"
   ]
  },
  {
   "cell_type": "markdown",
   "metadata": {},
   "source": [
    "## Correlation and Regression"
   ]
  },
  {
   "cell_type": "code",
   "execution_count": 18,
   "metadata": {},
   "outputs": [
    {
     "name": "stdout",
     "output_type": "stream",
     "text": [
      "The correlation between mouse weight and the average tumor volume is 0.84\n"
     ]
    },
    {
     "data": {
      "image/png": "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\n",
      "text/plain": [
       "<Figure size 432x288 with 1 Axes>"
      ]
     },
     "metadata": {
      "needs_background": "light"
     },
     "output_type": "display_data"
    }
   ],
   "source": [
    "# Calculate the correlation coefficient and linear regression model \n",
    "# for mouse weight and average tumor volume for the Capomulin regimen\n",
    "\n"
   ]
  }
 ],
 "metadata": {
  "anaconda-cloud": {},
  "kernelspec": {
   "display_name": "Python 3 (ipykernel)",
   "language": "python",
   "name": "python3"
  },
  "language_info": {
   "codemirror_mode": {
    "name": "ipython",
    "version": 3
   },
   "file_extension": ".py",
   "mimetype": "text/x-python",
   "name": "python",
   "nbconvert_exporter": "python",
   "pygments_lexer": "ipython3",
   "version": "3.9.13"
  }
 },
 "nbformat": 4,
 "nbformat_minor": 4
}
